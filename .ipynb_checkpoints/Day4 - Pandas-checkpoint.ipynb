{
 "cells": [
  {
   "cell_type": "code",
   "execution_count": 1,
   "id": "84e66af1",
   "metadata": {},
   "outputs": [],
   "source": [
    "import pandas as pd"
   ]
  },
  {
   "cell_type": "code",
   "execution_count": 2,
   "id": "c8b17579",
   "metadata": {},
   "outputs": [],
   "source": [
    "rivers=['Ganga','Mississipi','Nile','Kaveri','Yamuna']"
   ]
  },
  {
   "cell_type": "code",
   "execution_count": 3,
   "id": "1e15b00d",
   "metadata": {},
   "outputs": [],
   "source": [
    "ser_rivers=pd.Series(rivers, index= ('r1','r2','r3','r4','r5'))"
   ]
  },
  {
   "cell_type": "raw",
   "id": "e2aa05b1",
   "metadata": {},
   "source": [
    "ser_rivers"
   ]
  },
  {
   "cell_type": "code",
   "execution_count": null,
   "id": "aae6b700",
   "metadata": {},
   "outputs": [],
   "source": []
  }
 ],
 "metadata": {
  "kernelspec": {
   "display_name": "Python 3 (ipykernel)",
   "language": "python",
   "name": "python3"
  },
  "language_info": {
   "codemirror_mode": {
    "name": "ipython",
    "version": 3
   },
   "file_extension": ".py",
   "mimetype": "text/x-python",
   "name": "python",
   "nbconvert_exporter": "python",
   "pygments_lexer": "ipython3",
   "version": "3.9.12"
  }
 },
 "nbformat": 4,
 "nbformat_minor": 5
}
