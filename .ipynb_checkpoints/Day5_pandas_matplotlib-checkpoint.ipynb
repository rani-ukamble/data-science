{
 "cells": [
  {
   "cell_type": "code",
   "execution_count": 1,
   "id": "78d0d02b",
   "metadata": {},
   "outputs": [],
   "source": [
    "import pandas as pd\n",
    "import numpy as np"
   ]
  },
  {
   "cell_type": "code",
   "execution_count": 2,
   "id": "861620f4",
   "metadata": {},
   "outputs": [
    {
     "data": {
      "text/html": [
       "<div>\n",
       "<style scoped>\n",
       "    .dataframe tbody tr th:only-of-type {\n",
       "        vertical-align: middle;\n",
       "    }\n",
       "\n",
       "    .dataframe tbody tr th {\n",
       "        vertical-align: top;\n",
       "    }\n",
       "\n",
       "    .dataframe thead th {\n",
       "        text-align: right;\n",
       "    }\n",
       "</style>\n",
       "<table border=\"1\" class=\"dataframe\">\n",
       "  <thead>\n",
       "    <tr style=\"text-align: right;\">\n",
       "      <th></th>\n",
       "      <th>Roll_No</th>\n",
       "      <th>Name</th>\n",
       "      <th>Class</th>\n",
       "      <th>Marks</th>\n",
       "      <th>Place</th>\n",
       "    </tr>\n",
       "  </thead>\n",
       "  <tbody>\n",
       "    <tr>\n",
       "      <th>0</th>\n",
       "      <td>1</td>\n",
       "      <td>Sandesh</td>\n",
       "      <td>10</td>\n",
       "      <td>45</td>\n",
       "      <td>Pune</td>\n",
       "    </tr>\n",
       "    <tr>\n",
       "      <th>1</th>\n",
       "      <td>2</td>\n",
       "      <td>Avinash</td>\n",
       "      <td>8</td>\n",
       "      <td>88</td>\n",
       "      <td>Pune</td>\n",
       "    </tr>\n",
       "    <tr>\n",
       "      <th>2</th>\n",
       "      <td>3</td>\n",
       "      <td>Abhijeet</td>\n",
       "      <td>6</td>\n",
       "      <td>90</td>\n",
       "      <td>Mumbai</td>\n",
       "    </tr>\n",
       "    <tr>\n",
       "      <th>3</th>\n",
       "      <td>4</td>\n",
       "      <td>Yameen</td>\n",
       "      <td>4</td>\n",
       "      <td>67</td>\n",
       "      <td>Mumbai</td>\n",
       "    </tr>\n",
       "    <tr>\n",
       "      <th>4</th>\n",
       "      <td>5</td>\n",
       "      <td>Shardul</td>\n",
       "      <td>5</td>\n",
       "      <td>55</td>\n",
       "      <td>Mumbai</td>\n",
       "    </tr>\n",
       "    <tr>\n",
       "      <th>5</th>\n",
       "      <td>6</td>\n",
       "      <td>Mohan</td>\n",
       "      <td>8</td>\n",
       "      <td>76</td>\n",
       "      <td>Nashik</td>\n",
       "    </tr>\n",
       "  </tbody>\n",
       "</table>\n",
       "</div>"
      ],
      "text/plain": [
       "   Roll_No      Name  Class  Marks   Place\n",
       "0        1   Sandesh     10     45    Pune\n",
       "1        2   Avinash      8     88    Pune\n",
       "2        3  Abhijeet      6     90  Mumbai\n",
       "3        4    Yameen      4     67  Mumbai\n",
       "4        5   Shardul      5     55  Mumbai\n",
       "5        6     Mohan      8     76  Nashik"
      ]
     },
     "execution_count": 2,
     "metadata": {},
     "output_type": "execute_result"
    }
   ],
   "source": [
    "df1=pd.read_excel('Datasets/students.xlsx')\n",
    "df1"
   ]
  },
  {
   "cell_type": "code",
   "execution_count": 3,
   "id": "3c8a53bf",
   "metadata": {},
   "outputs": [
    {
     "data": {
      "text/plain": [
       "<bound method Series.unique of 0      Pune\n",
       "1      Pune\n",
       "2    Mumbai\n",
       "3    Mumbai\n",
       "4    Mumbai\n",
       "5    Nashik\n",
       "Name: Place, dtype: object>"
      ]
     },
     "execution_count": 3,
     "metadata": {},
     "output_type": "execute_result"
    }
   ],
   "source": [
    "df1['Place'].unique"
   ]
  },
  {
   "cell_type": "code",
   "execution_count": 4,
   "id": "a6edcd5a",
   "metadata": {},
   "outputs": [
    {
     "data": {
      "text/plain": [
       "3"
      ]
     },
     "execution_count": 4,
     "metadata": {},
     "output_type": "execute_result"
    }
   ],
   "source": [
    "df1['Place'].nunique()"
   ]
  },
  {
   "cell_type": "code",
   "execution_count": 5,
   "id": "a628e3f1",
   "metadata": {},
   "outputs": [
    {
     "data": {
      "text/plain": [
       "Mumbai    3\n",
       "Pune      2\n",
       "Nashik    1\n",
       "Name: Place, dtype: int64"
      ]
     },
     "execution_count": 5,
     "metadata": {},
     "output_type": "execute_result"
    }
   ],
   "source": [
    "df1['Place'].value_counts()"
   ]
  },
  {
   "cell_type": "code",
   "execution_count": 6,
   "id": "0337eedb",
   "metadata": {},
   "outputs": [
    {
     "data": {
      "text/plain": [
       "Place\n",
       "Mumbai    70.666667\n",
       "Nashik    76.000000\n",
       "Pune      66.500000\n",
       "Name: Marks, dtype: float64"
      ]
     },
     "execution_count": 6,
     "metadata": {},
     "output_type": "execute_result"
    }
   ],
   "source": [
    "df1.groupby('Place').mean()['Marks']"
   ]
  },
  {
   "cell_type": "code",
   "execution_count": 7,
   "id": "98980b1c",
   "metadata": {},
   "outputs": [
    {
     "data": {
      "text/plain": [
       "70.16666666666667"
      ]
     },
     "execution_count": 7,
     "metadata": {},
     "output_type": "execute_result"
    }
   ],
   "source": [
    "df1['Marks'].mean()"
   ]
  },
  {
   "cell_type": "code",
   "execution_count": 8,
   "id": "82abdb64",
   "metadata": {},
   "outputs": [
    {
     "data": {
      "text/plain": [
       "71.5"
      ]
     },
     "execution_count": 8,
     "metadata": {},
     "output_type": "execute_result"
    }
   ],
   "source": [
    "df1['Marks'].median()"
   ]
  },
  {
   "cell_type": "code",
   "execution_count": 9,
   "id": "92a489b8",
   "metadata": {},
   "outputs": [
    {
     "data": {
      "text/plain": [
       "17.993517351164744"
      ]
     },
     "execution_count": 9,
     "metadata": {},
     "output_type": "execute_result"
    }
   ],
   "source": [
    "df1['Marks'].std()"
   ]
  },
  {
   "cell_type": "code",
   "execution_count": 10,
   "id": "5a7d2ab4",
   "metadata": {},
   "outputs": [
    {
     "name": "stderr",
     "output_type": "stream",
     "text": [
      "C:\\Users\\Admin\\AppData\\Local\\Temp\\ipykernel_16780\\2385900152.py:1: SettingWithCopyWarning: \n",
      "A value is trying to be set on a copy of a slice from a DataFrame\n",
      "\n",
      "See the caveats in the documentation: https://pandas.pydata.org/pandas-docs/stable/user_guide/indexing.html#returning-a-view-versus-a-copy\n",
      "  df1['Marks'][2]=np.nan\n"
     ]
    }
   ],
   "source": [
    "df1['Marks'][2]=np.nan"
   ]
  },
  {
   "cell_type": "code",
   "execution_count": 11,
   "id": "a3a17d80",
   "metadata": {},
   "outputs": [
    {
     "data": {
      "text/html": [
       "<div>\n",
       "<style scoped>\n",
       "    .dataframe tbody tr th:only-of-type {\n",
       "        vertical-align: middle;\n",
       "    }\n",
       "\n",
       "    .dataframe tbody tr th {\n",
       "        vertical-align: top;\n",
       "    }\n",
       "\n",
       "    .dataframe thead th {\n",
       "        text-align: right;\n",
       "    }\n",
       "</style>\n",
       "<table border=\"1\" class=\"dataframe\">\n",
       "  <thead>\n",
       "    <tr style=\"text-align: right;\">\n",
       "      <th></th>\n",
       "      <th>Roll_No</th>\n",
       "      <th>Name</th>\n",
       "      <th>Class</th>\n",
       "      <th>Marks</th>\n",
       "      <th>Place</th>\n",
       "    </tr>\n",
       "  </thead>\n",
       "  <tbody>\n",
       "    <tr>\n",
       "      <th>0</th>\n",
       "      <td>1</td>\n",
       "      <td>Sandesh</td>\n",
       "      <td>10</td>\n",
       "      <td>45.0</td>\n",
       "      <td>Pune</td>\n",
       "    </tr>\n",
       "    <tr>\n",
       "      <th>1</th>\n",
       "      <td>2</td>\n",
       "      <td>Avinash</td>\n",
       "      <td>8</td>\n",
       "      <td>88.0</td>\n",
       "      <td>Pune</td>\n",
       "    </tr>\n",
       "    <tr>\n",
       "      <th>2</th>\n",
       "      <td>3</td>\n",
       "      <td>Abhijeet</td>\n",
       "      <td>6</td>\n",
       "      <td>NaN</td>\n",
       "      <td>Mumbai</td>\n",
       "    </tr>\n",
       "    <tr>\n",
       "      <th>3</th>\n",
       "      <td>4</td>\n",
       "      <td>Yameen</td>\n",
       "      <td>4</td>\n",
       "      <td>67.0</td>\n",
       "      <td>Mumbai</td>\n",
       "    </tr>\n",
       "    <tr>\n",
       "      <th>4</th>\n",
       "      <td>5</td>\n",
       "      <td>Shardul</td>\n",
       "      <td>5</td>\n",
       "      <td>55.0</td>\n",
       "      <td>Mumbai</td>\n",
       "    </tr>\n",
       "    <tr>\n",
       "      <th>5</th>\n",
       "      <td>6</td>\n",
       "      <td>Mohan</td>\n",
       "      <td>8</td>\n",
       "      <td>76.0</td>\n",
       "      <td>Nashik</td>\n",
       "    </tr>\n",
       "  </tbody>\n",
       "</table>\n",
       "</div>"
      ],
      "text/plain": [
       "   Roll_No      Name  Class  Marks   Place\n",
       "0        1   Sandesh     10   45.0    Pune\n",
       "1        2   Avinash      8   88.0    Pune\n",
       "2        3  Abhijeet      6    NaN  Mumbai\n",
       "3        4    Yameen      4   67.0  Mumbai\n",
       "4        5   Shardul      5   55.0  Mumbai\n",
       "5        6     Mohan      8   76.0  Nashik"
      ]
     },
     "execution_count": 11,
     "metadata": {},
     "output_type": "execute_result"
    }
   ],
   "source": [
    "df1"
   ]
  },
  {
   "cell_type": "code",
   "execution_count": 12,
   "id": "61b32793",
   "metadata": {},
   "outputs": [],
   "source": [
    "df2=df1"
   ]
  },
  {
   "cell_type": "code",
   "execution_count": 13,
   "id": "50ed324d",
   "metadata": {},
   "outputs": [
    {
     "data": {
      "text/plain": [
       "0    False\n",
       "1    False\n",
       "2     True\n",
       "3    False\n",
       "4    False\n",
       "5    False\n",
       "Name: Marks, dtype: bool"
      ]
     },
     "execution_count": 13,
     "metadata": {},
     "output_type": "execute_result"
    }
   ],
   "source": [
    "df1['Marks'].isna()"
   ]
  },
  {
   "cell_type": "code",
   "execution_count": 14,
   "id": "9f26105e",
   "metadata": {},
   "outputs": [
    {
     "data": {
      "text/html": [
       "<div>\n",
       "<style scoped>\n",
       "    .dataframe tbody tr th:only-of-type {\n",
       "        vertical-align: middle;\n",
       "    }\n",
       "\n",
       "    .dataframe tbody tr th {\n",
       "        vertical-align: top;\n",
       "    }\n",
       "\n",
       "    .dataframe thead th {\n",
       "        text-align: right;\n",
       "    }\n",
       "</style>\n",
       "<table border=\"1\" class=\"dataframe\">\n",
       "  <thead>\n",
       "    <tr style=\"text-align: right;\">\n",
       "      <th></th>\n",
       "      <th>Roll_No</th>\n",
       "      <th>Name</th>\n",
       "      <th>Class</th>\n",
       "      <th>Marks</th>\n",
       "      <th>Place</th>\n",
       "    </tr>\n",
       "  </thead>\n",
       "  <tbody>\n",
       "    <tr>\n",
       "      <th>0</th>\n",
       "      <td>1</td>\n",
       "      <td>Sandesh</td>\n",
       "      <td>10</td>\n",
       "      <td>45.0</td>\n",
       "      <td>Pune</td>\n",
       "    </tr>\n",
       "    <tr>\n",
       "      <th>1</th>\n",
       "      <td>2</td>\n",
       "      <td>Avinash</td>\n",
       "      <td>8</td>\n",
       "      <td>88.0</td>\n",
       "      <td>Pune</td>\n",
       "    </tr>\n",
       "    <tr>\n",
       "      <th>3</th>\n",
       "      <td>4</td>\n",
       "      <td>Yameen</td>\n",
       "      <td>4</td>\n",
       "      <td>67.0</td>\n",
       "      <td>Mumbai</td>\n",
       "    </tr>\n",
       "    <tr>\n",
       "      <th>4</th>\n",
       "      <td>5</td>\n",
       "      <td>Shardul</td>\n",
       "      <td>5</td>\n",
       "      <td>55.0</td>\n",
       "      <td>Mumbai</td>\n",
       "    </tr>\n",
       "    <tr>\n",
       "      <th>5</th>\n",
       "      <td>6</td>\n",
       "      <td>Mohan</td>\n",
       "      <td>8</td>\n",
       "      <td>76.0</td>\n",
       "      <td>Nashik</td>\n",
       "    </tr>\n",
       "  </tbody>\n",
       "</table>\n",
       "</div>"
      ],
      "text/plain": [
       "   Roll_No     Name  Class  Marks   Place\n",
       "0        1  Sandesh     10   45.0    Pune\n",
       "1        2  Avinash      8   88.0    Pune\n",
       "3        4   Yameen      4   67.0  Mumbai\n",
       "4        5  Shardul      5   55.0  Mumbai\n",
       "5        6    Mohan      8   76.0  Nashik"
      ]
     },
     "execution_count": 14,
     "metadata": {},
     "output_type": "execute_result"
    }
   ],
   "source": [
    "df1.dropna(axis=0)"
   ]
  },
  {
   "cell_type": "code",
   "execution_count": 15,
   "id": "0dceee07",
   "metadata": {},
   "outputs": [
    {
     "data": {
      "text/html": [
       "<div>\n",
       "<style scoped>\n",
       "    .dataframe tbody tr th:only-of-type {\n",
       "        vertical-align: middle;\n",
       "    }\n",
       "\n",
       "    .dataframe tbody tr th {\n",
       "        vertical-align: top;\n",
       "    }\n",
       "\n",
       "    .dataframe thead th {\n",
       "        text-align: right;\n",
       "    }\n",
       "</style>\n",
       "<table border=\"1\" class=\"dataframe\">\n",
       "  <thead>\n",
       "    <tr style=\"text-align: right;\">\n",
       "      <th></th>\n",
       "      <th>Roll_No</th>\n",
       "      <th>Name</th>\n",
       "      <th>Class</th>\n",
       "      <th>Place</th>\n",
       "    </tr>\n",
       "  </thead>\n",
       "  <tbody>\n",
       "    <tr>\n",
       "      <th>0</th>\n",
       "      <td>1</td>\n",
       "      <td>Sandesh</td>\n",
       "      <td>10</td>\n",
       "      <td>Pune</td>\n",
       "    </tr>\n",
       "    <tr>\n",
       "      <th>1</th>\n",
       "      <td>2</td>\n",
       "      <td>Avinash</td>\n",
       "      <td>8</td>\n",
       "      <td>Pune</td>\n",
       "    </tr>\n",
       "    <tr>\n",
       "      <th>2</th>\n",
       "      <td>3</td>\n",
       "      <td>Abhijeet</td>\n",
       "      <td>6</td>\n",
       "      <td>Mumbai</td>\n",
       "    </tr>\n",
       "    <tr>\n",
       "      <th>3</th>\n",
       "      <td>4</td>\n",
       "      <td>Yameen</td>\n",
       "      <td>4</td>\n",
       "      <td>Mumbai</td>\n",
       "    </tr>\n",
       "    <tr>\n",
       "      <th>4</th>\n",
       "      <td>5</td>\n",
       "      <td>Shardul</td>\n",
       "      <td>5</td>\n",
       "      <td>Mumbai</td>\n",
       "    </tr>\n",
       "    <tr>\n",
       "      <th>5</th>\n",
       "      <td>6</td>\n",
       "      <td>Mohan</td>\n",
       "      <td>8</td>\n",
       "      <td>Nashik</td>\n",
       "    </tr>\n",
       "  </tbody>\n",
       "</table>\n",
       "</div>"
      ],
      "text/plain": [
       "   Roll_No      Name  Class   Place\n",
       "0        1   Sandesh     10    Pune\n",
       "1        2   Avinash      8    Pune\n",
       "2        3  Abhijeet      6  Mumbai\n",
       "3        4    Yameen      4  Mumbai\n",
       "4        5   Shardul      5  Mumbai\n",
       "5        6     Mohan      8  Nashik"
      ]
     },
     "execution_count": 15,
     "metadata": {},
     "output_type": "execute_result"
    }
   ],
   "source": [
    "df1.dropna(axis=1)"
   ]
  },
  {
   "cell_type": "code",
   "execution_count": 16,
   "id": "5930af29",
   "metadata": {},
   "outputs": [
    {
     "data": {
      "text/html": [
       "<div>\n",
       "<style scoped>\n",
       "    .dataframe tbody tr th:only-of-type {\n",
       "        vertical-align: middle;\n",
       "    }\n",
       "\n",
       "    .dataframe tbody tr th {\n",
       "        vertical-align: top;\n",
       "    }\n",
       "\n",
       "    .dataframe thead th {\n",
       "        text-align: right;\n",
       "    }\n",
       "</style>\n",
       "<table border=\"1\" class=\"dataframe\">\n",
       "  <thead>\n",
       "    <tr style=\"text-align: right;\">\n",
       "      <th></th>\n",
       "      <th>Roll_No</th>\n",
       "      <th>Name</th>\n",
       "      <th>Class</th>\n",
       "      <th>Marks</th>\n",
       "      <th>Place</th>\n",
       "    </tr>\n",
       "  </thead>\n",
       "  <tbody>\n",
       "    <tr>\n",
       "      <th>0</th>\n",
       "      <td>1</td>\n",
       "      <td>Sandesh</td>\n",
       "      <td>10</td>\n",
       "      <td>45.0</td>\n",
       "      <td>Pune</td>\n",
       "    </tr>\n",
       "    <tr>\n",
       "      <th>1</th>\n",
       "      <td>2</td>\n",
       "      <td>Avinash</td>\n",
       "      <td>8</td>\n",
       "      <td>88.0</td>\n",
       "      <td>Pune</td>\n",
       "    </tr>\n",
       "    <tr>\n",
       "      <th>2</th>\n",
       "      <td>3</td>\n",
       "      <td>Abhijeet</td>\n",
       "      <td>6</td>\n",
       "      <td>NaN</td>\n",
       "      <td>Mumbai</td>\n",
       "    </tr>\n",
       "    <tr>\n",
       "      <th>3</th>\n",
       "      <td>4</td>\n",
       "      <td>Yameen</td>\n",
       "      <td>4</td>\n",
       "      <td>67.0</td>\n",
       "      <td>Mumbai</td>\n",
       "    </tr>\n",
       "    <tr>\n",
       "      <th>4</th>\n",
       "      <td>5</td>\n",
       "      <td>Shardul</td>\n",
       "      <td>5</td>\n",
       "      <td>55.0</td>\n",
       "      <td>Mumbai</td>\n",
       "    </tr>\n",
       "    <tr>\n",
       "      <th>5</th>\n",
       "      <td>6</td>\n",
       "      <td>Mohan</td>\n",
       "      <td>8</td>\n",
       "      <td>76.0</td>\n",
       "      <td>Nashik</td>\n",
       "    </tr>\n",
       "  </tbody>\n",
       "</table>\n",
       "</div>"
      ],
      "text/plain": [
       "   Roll_No      Name  Class  Marks   Place\n",
       "0        1   Sandesh     10   45.0    Pune\n",
       "1        2   Avinash      8   88.0    Pune\n",
       "2        3  Abhijeet      6    NaN  Mumbai\n",
       "3        4    Yameen      4   67.0  Mumbai\n",
       "4        5   Shardul      5   55.0  Mumbai\n",
       "5        6     Mohan      8   76.0  Nashik"
      ]
     },
     "execution_count": 16,
     "metadata": {},
     "output_type": "execute_result"
    }
   ],
   "source": [
    "df1.dropna(axis=0, thresh=1)"
   ]
  },
  {
   "cell_type": "code",
   "execution_count": 17,
   "id": "4aa59620",
   "metadata": {},
   "outputs": [
    {
     "data": {
      "text/plain": [
       "0    45.0\n",
       "1    88.0\n",
       "2    66.2\n",
       "3    67.0\n",
       "4    55.0\n",
       "5    76.0\n",
       "Name: Marks, dtype: float64"
      ]
     },
     "execution_count": 17,
     "metadata": {},
     "output_type": "execute_result"
    }
   ],
   "source": [
    "df1['Marks'].fillna(df1['Marks'].mean())"
   ]
  },
  {
   "cell_type": "code",
   "execution_count": 19,
   "id": "0d1c644c",
   "metadata": {},
   "outputs": [
    {
     "data": {
      "text/html": [
       "<div>\n",
       "<style scoped>\n",
       "    .dataframe tbody tr th:only-of-type {\n",
       "        vertical-align: middle;\n",
       "    }\n",
       "\n",
       "    .dataframe tbody tr th {\n",
       "        vertical-align: top;\n",
       "    }\n",
       "\n",
       "    .dataframe thead th {\n",
       "        text-align: right;\n",
       "    }\n",
       "</style>\n",
       "<table border=\"1\" class=\"dataframe\">\n",
       "  <thead>\n",
       "    <tr style=\"text-align: right;\">\n",
       "      <th></th>\n",
       "      <th>Roll_No</th>\n",
       "      <th>Name</th>\n",
       "      <th>Class</th>\n",
       "      <th>Marks</th>\n",
       "      <th>Place</th>\n",
       "    </tr>\n",
       "  </thead>\n",
       "  <tbody>\n",
       "    <tr>\n",
       "      <th>0</th>\n",
       "      <td>1</td>\n",
       "      <td>Sandesh</td>\n",
       "      <td>10</td>\n",
       "      <td>45.0</td>\n",
       "      <td>Pune</td>\n",
       "    </tr>\n",
       "    <tr>\n",
       "      <th>1</th>\n",
       "      <td>2</td>\n",
       "      <td>Avinash</td>\n",
       "      <td>8</td>\n",
       "      <td>88.0</td>\n",
       "      <td>Pune</td>\n",
       "    </tr>\n",
       "    <tr>\n",
       "      <th>2</th>\n",
       "      <td>3</td>\n",
       "      <td>Abhijeet</td>\n",
       "      <td>6</td>\n",
       "      <td>NaN</td>\n",
       "      <td>Mumbai</td>\n",
       "    </tr>\n",
       "    <tr>\n",
       "      <th>3</th>\n",
       "      <td>4</td>\n",
       "      <td>Yameen</td>\n",
       "      <td>4</td>\n",
       "      <td>67.0</td>\n",
       "      <td>Mumbai</td>\n",
       "    </tr>\n",
       "    <tr>\n",
       "      <th>4</th>\n",
       "      <td>5</td>\n",
       "      <td>Shardul</td>\n",
       "      <td>5</td>\n",
       "      <td>55.0</td>\n",
       "      <td>Mumbai</td>\n",
       "    </tr>\n",
       "    <tr>\n",
       "      <th>5</th>\n",
       "      <td>6</td>\n",
       "      <td>Mohan</td>\n",
       "      <td>8</td>\n",
       "      <td>76.0</td>\n",
       "      <td>Nashik</td>\n",
       "    </tr>\n",
       "  </tbody>\n",
       "</table>\n",
       "</div>"
      ],
      "text/plain": [
       "   Roll_No      Name  Class  Marks   Place\n",
       "0        1   Sandesh     10   45.0    Pune\n",
       "1        2   Avinash      8   88.0    Pune\n",
       "2        3  Abhijeet      6    NaN  Mumbai\n",
       "3        4    Yameen      4   67.0  Mumbai\n",
       "4        5   Shardul      5   55.0  Mumbai\n",
       "5        6     Mohan      8   76.0  Nashik"
      ]
     },
     "execution_count": 19,
     "metadata": {},
     "output_type": "execute_result"
    }
   ],
   "source": [
    "df1"
   ]
  },
  {
   "cell_type": "code",
   "execution_count": 20,
   "id": "8e1dd183",
   "metadata": {},
   "outputs": [],
   "source": [
    "df1['Marks'].fillna(df1['Marks'].mean(),inplace=True)   #replace NaN values by another values (its mean) \n",
    "df3=df1['Marks'].fillna(df1['Marks'].mean())"
   ]
  },
  {
   "cell_type": "code",
   "execution_count": 21,
   "id": "6660471c",
   "metadata": {},
   "outputs": [
    {
     "data": {
      "text/html": [
       "<div>\n",
       "<style scoped>\n",
       "    .dataframe tbody tr th:only-of-type {\n",
       "        vertical-align: middle;\n",
       "    }\n",
       "\n",
       "    .dataframe tbody tr th {\n",
       "        vertical-align: top;\n",
       "    }\n",
       "\n",
       "    .dataframe thead th {\n",
       "        text-align: right;\n",
       "    }\n",
       "</style>\n",
       "<table border=\"1\" class=\"dataframe\">\n",
       "  <thead>\n",
       "    <tr style=\"text-align: right;\">\n",
       "      <th></th>\n",
       "      <th>Roll_No</th>\n",
       "      <th>Name</th>\n",
       "      <th>Class</th>\n",
       "      <th>Marks</th>\n",
       "      <th>Place</th>\n",
       "    </tr>\n",
       "  </thead>\n",
       "  <tbody>\n",
       "    <tr>\n",
       "      <th>0</th>\n",
       "      <td>1</td>\n",
       "      <td>Sandesh</td>\n",
       "      <td>10</td>\n",
       "      <td>45.0</td>\n",
       "      <td>Pune</td>\n",
       "    </tr>\n",
       "    <tr>\n",
       "      <th>1</th>\n",
       "      <td>2</td>\n",
       "      <td>Avinash</td>\n",
       "      <td>8</td>\n",
       "      <td>88.0</td>\n",
       "      <td>Pune</td>\n",
       "    </tr>\n",
       "    <tr>\n",
       "      <th>2</th>\n",
       "      <td>3</td>\n",
       "      <td>Abhijeet</td>\n",
       "      <td>6</td>\n",
       "      <td>66.2</td>\n",
       "      <td>Mumbai</td>\n",
       "    </tr>\n",
       "    <tr>\n",
       "      <th>3</th>\n",
       "      <td>4</td>\n",
       "      <td>Yameen</td>\n",
       "      <td>4</td>\n",
       "      <td>67.0</td>\n",
       "      <td>Mumbai</td>\n",
       "    </tr>\n",
       "    <tr>\n",
       "      <th>4</th>\n",
       "      <td>5</td>\n",
       "      <td>Shardul</td>\n",
       "      <td>5</td>\n",
       "      <td>55.0</td>\n",
       "      <td>Mumbai</td>\n",
       "    </tr>\n",
       "    <tr>\n",
       "      <th>5</th>\n",
       "      <td>6</td>\n",
       "      <td>Mohan</td>\n",
       "      <td>8</td>\n",
       "      <td>76.0</td>\n",
       "      <td>Nashik</td>\n",
       "    </tr>\n",
       "  </tbody>\n",
       "</table>\n",
       "</div>"
      ],
      "text/plain": [
       "   Roll_No      Name  Class  Marks   Place\n",
       "0        1   Sandesh     10   45.0    Pune\n",
       "1        2   Avinash      8   88.0    Pune\n",
       "2        3  Abhijeet      6   66.2  Mumbai\n",
       "3        4    Yameen      4   67.0  Mumbai\n",
       "4        5   Shardul      5   55.0  Mumbai\n",
       "5        6     Mohan      8   76.0  Nashik"
      ]
     },
     "execution_count": 21,
     "metadata": {},
     "output_type": "execute_result"
    }
   ],
   "source": [
    "df1"
   ]
  },
  {
   "cell_type": "code",
   "execution_count": 22,
   "id": "ef66a469",
   "metadata": {},
   "outputs": [
    {
     "data": {
      "text/plain": [
       "0    45.0\n",
       "1    88.0\n",
       "2    66.2\n",
       "3    67.0\n",
       "4    55.0\n",
       "5    76.0\n",
       "Name: Marks, dtype: float64"
      ]
     },
     "execution_count": 22,
     "metadata": {},
     "output_type": "execute_result"
    }
   ],
   "source": [
    "df1['Marks'].sort_index()"
   ]
  },
  {
   "cell_type": "code",
   "execution_count": 23,
   "id": "a8c4a443",
   "metadata": {},
   "outputs": [
    {
     "data": {
      "text/plain": [
       "0    45.0\n",
       "4    55.0\n",
       "2    66.2\n",
       "3    67.0\n",
       "5    76.0\n",
       "1    88.0\n",
       "Name: Marks, dtype: float64"
      ]
     },
     "execution_count": 23,
     "metadata": {},
     "output_type": "execute_result"
    }
   ],
   "source": [
    "df1['Marks'].sort_values()"
   ]
  },
  {
   "cell_type": "code",
   "execution_count": 24,
   "id": "78a70cce",
   "metadata": {},
   "outputs": [
    {
     "data": {
      "text/html": [
       "<div>\n",
       "<style scoped>\n",
       "    .dataframe tbody tr th:only-of-type {\n",
       "        vertical-align: middle;\n",
       "    }\n",
       "\n",
       "    .dataframe tbody tr th {\n",
       "        vertical-align: top;\n",
       "    }\n",
       "\n",
       "    .dataframe thead th {\n",
       "        text-align: right;\n",
       "    }\n",
       "</style>\n",
       "<table border=\"1\" class=\"dataframe\">\n",
       "  <thead>\n",
       "    <tr style=\"text-align: right;\">\n",
       "      <th></th>\n",
       "      <th>Region</th>\n",
       "      <th>Type</th>\n",
       "      <th>Small Bags</th>\n",
       "      <th>Large Bags</th>\n",
       "      <th>Total Bags</th>\n",
       "      <th>Total Volume</th>\n",
       "      <th>AveragePrice</th>\n",
       "      <th>Date</th>\n",
       "    </tr>\n",
       "  </thead>\n",
       "  <tbody>\n",
       "    <tr>\n",
       "      <th>0</th>\n",
       "      <td>Atlanta</td>\n",
       "      <td>organic</td>\n",
       "      <td>89424.11</td>\n",
       "      <td>207.08</td>\n",
       "      <td>89631.19</td>\n",
       "      <td>190257.38</td>\n",
       "      <td>1.70</td>\n",
       "      <td>2018-03-25</td>\n",
       "    </tr>\n",
       "    <tr>\n",
       "      <th>1</th>\n",
       "      <td>Atlanta</td>\n",
       "      <td>conventional</td>\n",
       "      <td>102717.50</td>\n",
       "      <td>153.00</td>\n",
       "      <td>102870.50</td>\n",
       "      <td>202790.74</td>\n",
       "      <td>1.75</td>\n",
       "      <td>2018-03-18</td>\n",
       "    </tr>\n",
       "    <tr>\n",
       "      <th>2</th>\n",
       "      <td>Boston</td>\n",
       "      <td>organic</td>\n",
       "      <td>120465.39</td>\n",
       "      <td>18.83</td>\n",
       "      <td>120484.22</td>\n",
       "      <td>236822.98</td>\n",
       "      <td>1.58</td>\n",
       "      <td>2018-03-11</td>\n",
       "    </tr>\n",
       "    <tr>\n",
       "      <th>3</th>\n",
       "      <td>Boston</td>\n",
       "      <td>conventional</td>\n",
       "      <td>136877.43</td>\n",
       "      <td>60.60</td>\n",
       "      <td>136938.03</td>\n",
       "      <td>239135.67</td>\n",
       "      <td>1.57</td>\n",
       "      <td>2018-03-04</td>\n",
       "    </tr>\n",
       "    <tr>\n",
       "      <th>4</th>\n",
       "      <td>California</td>\n",
       "      <td>organic</td>\n",
       "      <td>66273.89</td>\n",
       "      <td>46.58</td>\n",
       "      <td>66320.47</td>\n",
       "      <td>179041.72</td>\n",
       "      <td>1.82</td>\n",
       "      <td>2018-02-25</td>\n",
       "    </tr>\n",
       "    <tr>\n",
       "      <th>5</th>\n",
       "      <td>California</td>\n",
       "      <td>conventional</td>\n",
       "      <td>103033.73</td>\n",
       "      <td>186.20</td>\n",
       "      <td>103219.93</td>\n",
       "      <td>1203274.11</td>\n",
       "      <td>1.01</td>\n",
       "      <td>2018-03-25</td>\n",
       "    </tr>\n",
       "    <tr>\n",
       "      <th>6</th>\n",
       "      <td>NewYork</td>\n",
       "      <td>organic</td>\n",
       "      <td>119694.95</td>\n",
       "      <td>92.29</td>\n",
       "      <td>119787.24</td>\n",
       "      <td>777300.99</td>\n",
       "      <td>1.38</td>\n",
       "      <td>2018-03-18</td>\n",
       "    </tr>\n",
       "    <tr>\n",
       "      <th>7</th>\n",
       "      <td>NewYork</td>\n",
       "      <td>conventional</td>\n",
       "      <td>193813.92</td>\n",
       "      <td>196.57</td>\n",
       "      <td>194010.49</td>\n",
       "      <td>904333.98</td>\n",
       "      <td>1.29</td>\n",
       "      <td>2018-03-11</td>\n",
       "    </tr>\n",
       "    <tr>\n",
       "      <th>8</th>\n",
       "      <td>SanFransisco</td>\n",
       "      <td>organic</td>\n",
       "      <td>231913.11</td>\n",
       "      <td>1286.43</td>\n",
       "      <td>233199.54</td>\n",
       "      <td>1051308.50</td>\n",
       "      <td>1.16</td>\n",
       "      <td>2018-03-04</td>\n",
       "    </tr>\n",
       "    <tr>\n",
       "      <th>9</th>\n",
       "      <td>SanFransisco</td>\n",
       "      <td>conventional</td>\n",
       "      <td>162913.33</td>\n",
       "      <td>609.20</td>\n",
       "      <td>163522.53</td>\n",
       "      <td>984000.13</td>\n",
       "      <td>1.17</td>\n",
       "      <td>2018-02-25</td>\n",
       "    </tr>\n",
       "  </tbody>\n",
       "</table>\n",
       "</div>"
      ],
      "text/plain": [
       "         Region          Type  Small Bags  Large Bags  Total Bags  \\\n",
       "0       Atlanta       organic    89424.11      207.08    89631.19   \n",
       "1       Atlanta  conventional   102717.50      153.00   102870.50   \n",
       "2        Boston       organic   120465.39       18.83   120484.22   \n",
       "3        Boston  conventional   136877.43       60.60   136938.03   \n",
       "4    California       organic    66273.89       46.58    66320.47   \n",
       "5    California  conventional   103033.73      186.20   103219.93   \n",
       "6       NewYork       organic   119694.95       92.29   119787.24   \n",
       "7       NewYork  conventional   193813.92      196.57   194010.49   \n",
       "8  SanFransisco       organic   231913.11     1286.43   233199.54   \n",
       "9  SanFransisco  conventional   162913.33      609.20   163522.53   \n",
       "\n",
       "   Total Volume  AveragePrice        Date  \n",
       "0     190257.38          1.70  2018-03-25  \n",
       "1     202790.74          1.75  2018-03-18  \n",
       "2     236822.98          1.58  2018-03-11  \n",
       "3     239135.67          1.57  2018-03-04  \n",
       "4     179041.72          1.82  2018-02-25  \n",
       "5    1203274.11          1.01  2018-03-25  \n",
       "6     777300.99          1.38  2018-03-18  \n",
       "7     904333.98          1.29  2018-03-11  \n",
       "8    1051308.50          1.16  2018-03-04  \n",
       "9     984000.13          1.17  2018-02-25  "
      ]
     },
     "execution_count": 24,
     "metadata": {},
     "output_type": "execute_result"
    }
   ],
   "source": [
    "df2=pd.read_csv('datasets/avocado.csv')\n",
    "df2"
   ]
  },
  {
   "cell_type": "code",
   "execution_count": 25,
   "id": "626fbc02",
   "metadata": {},
   "outputs": [],
   "source": [
    "avocado_multiindex=pd.read_csv('datasets/avocado.csv',index_col=['Region','Type'])"
   ]
  },
  {
   "cell_type": "code",
   "execution_count": 26,
   "id": "043332ba",
   "metadata": {},
   "outputs": [
    {
     "data": {
      "text/html": [
       "<div>\n",
       "<style scoped>\n",
       "    .dataframe tbody tr th:only-of-type {\n",
       "        vertical-align: middle;\n",
       "    }\n",
       "\n",
       "    .dataframe tbody tr th {\n",
       "        vertical-align: top;\n",
       "    }\n",
       "\n",
       "    .dataframe thead th {\n",
       "        text-align: right;\n",
       "    }\n",
       "</style>\n",
       "<table border=\"1\" class=\"dataframe\">\n",
       "  <thead>\n",
       "    <tr style=\"text-align: right;\">\n",
       "      <th></th>\n",
       "      <th></th>\n",
       "      <th>Small Bags</th>\n",
       "      <th>Large Bags</th>\n",
       "      <th>Total Bags</th>\n",
       "      <th>Total Volume</th>\n",
       "      <th>AveragePrice</th>\n",
       "      <th>Date</th>\n",
       "    </tr>\n",
       "    <tr>\n",
       "      <th>Region</th>\n",
       "      <th>Type</th>\n",
       "      <th></th>\n",
       "      <th></th>\n",
       "      <th></th>\n",
       "      <th></th>\n",
       "      <th></th>\n",
       "      <th></th>\n",
       "    </tr>\n",
       "  </thead>\n",
       "  <tbody>\n",
       "    <tr>\n",
       "      <th rowspan=\"2\" valign=\"top\">Atlanta</th>\n",
       "      <th>organic</th>\n",
       "      <td>89424.11</td>\n",
       "      <td>207.08</td>\n",
       "      <td>89631.19</td>\n",
       "      <td>190257.38</td>\n",
       "      <td>1.70</td>\n",
       "      <td>2018-03-25</td>\n",
       "    </tr>\n",
       "    <tr>\n",
       "      <th>conventional</th>\n",
       "      <td>102717.50</td>\n",
       "      <td>153.00</td>\n",
       "      <td>102870.50</td>\n",
       "      <td>202790.74</td>\n",
       "      <td>1.75</td>\n",
       "      <td>2018-03-18</td>\n",
       "    </tr>\n",
       "    <tr>\n",
       "      <th rowspan=\"2\" valign=\"top\">Boston</th>\n",
       "      <th>organic</th>\n",
       "      <td>120465.39</td>\n",
       "      <td>18.83</td>\n",
       "      <td>120484.22</td>\n",
       "      <td>236822.98</td>\n",
       "      <td>1.58</td>\n",
       "      <td>2018-03-11</td>\n",
       "    </tr>\n",
       "    <tr>\n",
       "      <th>conventional</th>\n",
       "      <td>136877.43</td>\n",
       "      <td>60.60</td>\n",
       "      <td>136938.03</td>\n",
       "      <td>239135.67</td>\n",
       "      <td>1.57</td>\n",
       "      <td>2018-03-04</td>\n",
       "    </tr>\n",
       "    <tr>\n",
       "      <th rowspan=\"2\" valign=\"top\">California</th>\n",
       "      <th>organic</th>\n",
       "      <td>66273.89</td>\n",
       "      <td>46.58</td>\n",
       "      <td>66320.47</td>\n",
       "      <td>179041.72</td>\n",
       "      <td>1.82</td>\n",
       "      <td>2018-02-25</td>\n",
       "    </tr>\n",
       "    <tr>\n",
       "      <th>conventional</th>\n",
       "      <td>103033.73</td>\n",
       "      <td>186.20</td>\n",
       "      <td>103219.93</td>\n",
       "      <td>1203274.11</td>\n",
       "      <td>1.01</td>\n",
       "      <td>2018-03-25</td>\n",
       "    </tr>\n",
       "    <tr>\n",
       "      <th rowspan=\"2\" valign=\"top\">NewYork</th>\n",
       "      <th>organic</th>\n",
       "      <td>119694.95</td>\n",
       "      <td>92.29</td>\n",
       "      <td>119787.24</td>\n",
       "      <td>777300.99</td>\n",
       "      <td>1.38</td>\n",
       "      <td>2018-03-18</td>\n",
       "    </tr>\n",
       "    <tr>\n",
       "      <th>conventional</th>\n",
       "      <td>193813.92</td>\n",
       "      <td>196.57</td>\n",
       "      <td>194010.49</td>\n",
       "      <td>904333.98</td>\n",
       "      <td>1.29</td>\n",
       "      <td>2018-03-11</td>\n",
       "    </tr>\n",
       "    <tr>\n",
       "      <th rowspan=\"2\" valign=\"top\">SanFransisco</th>\n",
       "      <th>organic</th>\n",
       "      <td>231913.11</td>\n",
       "      <td>1286.43</td>\n",
       "      <td>233199.54</td>\n",
       "      <td>1051308.50</td>\n",
       "      <td>1.16</td>\n",
       "      <td>2018-03-04</td>\n",
       "    </tr>\n",
       "    <tr>\n",
       "      <th>conventional</th>\n",
       "      <td>162913.33</td>\n",
       "      <td>609.20</td>\n",
       "      <td>163522.53</td>\n",
       "      <td>984000.13</td>\n",
       "      <td>1.17</td>\n",
       "      <td>2018-02-25</td>\n",
       "    </tr>\n",
       "  </tbody>\n",
       "</table>\n",
       "</div>"
      ],
      "text/plain": [
       "                           Small Bags  Large Bags  Total Bags  Total Volume  \\\n",
       "Region       Type                                                             \n",
       "Atlanta      organic         89424.11      207.08    89631.19     190257.38   \n",
       "             conventional   102717.50      153.00   102870.50     202790.74   \n",
       "Boston       organic        120465.39       18.83   120484.22     236822.98   \n",
       "             conventional   136877.43       60.60   136938.03     239135.67   \n",
       "California   organic         66273.89       46.58    66320.47     179041.72   \n",
       "             conventional   103033.73      186.20   103219.93    1203274.11   \n",
       "NewYork      organic        119694.95       92.29   119787.24     777300.99   \n",
       "             conventional   193813.92      196.57   194010.49     904333.98   \n",
       "SanFransisco organic        231913.11     1286.43   233199.54    1051308.50   \n",
       "             conventional   162913.33      609.20   163522.53     984000.13   \n",
       "\n",
       "                           AveragePrice        Date  \n",
       "Region       Type                                    \n",
       "Atlanta      organic               1.70  2018-03-25  \n",
       "             conventional          1.75  2018-03-18  \n",
       "Boston       organic               1.58  2018-03-11  \n",
       "             conventional          1.57  2018-03-04  \n",
       "California   organic               1.82  2018-02-25  \n",
       "             conventional          1.01  2018-03-25  \n",
       "NewYork      organic               1.38  2018-03-18  \n",
       "             conventional          1.29  2018-03-11  \n",
       "SanFransisco organic               1.16  2018-03-04  \n",
       "             conventional          1.17  2018-02-25  "
      ]
     },
     "execution_count": 26,
     "metadata": {},
     "output_type": "execute_result"
    }
   ],
   "source": [
    "avocado_multiindex"
   ]
  },
  {
   "cell_type": "code",
   "execution_count": 27,
   "id": "a6f247be",
   "metadata": {},
   "outputs": [
    {
     "data": {
      "text/plain": [
       "Small Bags        89424.11\n",
       "Large Bags          207.08\n",
       "Total Bags        89631.19\n",
       "Total Volume     190257.38\n",
       "AveragePrice           1.7\n",
       "Date            2018-03-25\n",
       "Name: (Atlanta, organic), dtype: object"
      ]
     },
     "execution_count": 27,
     "metadata": {},
     "output_type": "execute_result"
    }
   ],
   "source": [
    "avocado_multiindex.loc['Atlanta','organic']"
   ]
  },
  {
   "cell_type": "code",
   "execution_count": 28,
   "id": "a00dc4ab",
   "metadata": {},
   "outputs": [],
   "source": [
    "list1=['i1','i1','i1','i2','i2','i2']\n",
    "list2=[1,2,3,1,2,3]"
   ]
  },
  {
   "cell_type": "code",
   "execution_count": 29,
   "id": "1eb30069",
   "metadata": {},
   "outputs": [],
   "source": [
    "final=list(zip(list1,list2))"
   ]
  },
  {
   "cell_type": "code",
   "execution_count": 30,
   "id": "41321b4f",
   "metadata": {},
   "outputs": [
    {
     "data": {
      "text/plain": [
       "[('i1', 1), ('i1', 2), ('i1', 3), ('i2', 1), ('i2', 2), ('i2', 3)]"
      ]
     },
     "execution_count": 30,
     "metadata": {},
     "output_type": "execute_result"
    }
   ],
   "source": [
    "final"
   ]
  },
  {
   "cell_type": "code",
   "execution_count": 31,
   "id": "a1cda219",
   "metadata": {},
   "outputs": [],
   "source": [
    "f=pd.MultiIndex.from_tuples(final)"
   ]
  },
  {
   "cell_type": "code",
   "execution_count": 32,
   "id": "74ed2725",
   "metadata": {},
   "outputs": [
    {
     "data": {
      "text/plain": [
       "MultiIndex([('i1', 1),\n",
       "            ('i1', 2),\n",
       "            ('i1', 3),\n",
       "            ('i2', 1),\n",
       "            ('i2', 2),\n",
       "            ('i2', 3)],\n",
       "           )"
      ]
     },
     "execution_count": 32,
     "metadata": {},
     "output_type": "execute_result"
    }
   ],
   "source": [
    "f"
   ]
  },
  {
   "cell_type": "code",
   "execution_count": 33,
   "id": "6a3f11a6",
   "metadata": {},
   "outputs": [],
   "source": [
    "#Matplotlib"
   ]
  },
  {
   "cell_type": "code",
   "execution_count": 34,
   "id": "9b86e280",
   "metadata": {},
   "outputs": [],
   "source": [
    "import matplotlib.pyplot as plt\n",
    "import seaborn as sns"
   ]
  },
  {
   "cell_type": "code",
   "execution_count": 35,
   "id": "c5a4941c",
   "metadata": {},
   "outputs": [
    {
     "data": {
      "image/png": "[encoded data removed]",
      "text/plain": [
       "<Figure size 432x288 with 1 Axes>"
      ]
     },
     "metadata": {
      "needs_background": "light"
     },
     "output_type": "display_data"
    }
   ],
   "source": [
    "plt.plot([10,20,30,40],[20,30,40,50])\n",
    "plt.show()"
   ]
  },
  {
   "cell_type": "code",
   "execution_count": 36,
   "id": "266b4922",
   "metadata": {},
   "outputs": [
    {
     "data": {
      "image/png": "[encoded data removed]",
      "text/plain": [
       "<Figure size 432x288 with 1 Axes>"
      ]
     },
     "metadata": {
      "needs_background": "light"
     },
     "output_type": "display_data"
    }
   ],
   "source": [
    "plt.plot([10,20,30,40],[20,30,40,50],color='red',marker='o')\n",
    "plt.show()"
   ]
  },
  {
   "cell_type": "code",
   "execution_count": 37,
   "id": "4f10674f",
   "metadata": {},
   "outputs": [
    {
     "data": {
      "text/plain": [
       "Text(0, 0.5, 'y value')"
      ]
     },
     "execution_count": 37,
     "metadata": {},
     "output_type": "execute_result"
    },
    {
     "data": {
      "image/png": "[encoded data removed]",
      "text/plain": [
       "<Figure size 432x288 with 1 Axes>"
      ]
     },
     "metadata": {
      "needs_background": "light"
     },
     "output_type": "display_data"
    }
   ],
   "source": [
    "plt.plot([3,5,7,9],[6,10,14,18],color='red')\n",
    "plt.plot([13,15,17,19],[60,100,140,180],color='red')\n",
    "plt.xlabel('x value', fontsize=18, color='blue')\n",
    "plt.ylabel('y value', fontsize=18, color='green')"
   ]
  },
  {
   "cell_type": "code",
   "execution_count": 38,
   "id": "255f5035",
   "metadata": {},
   "outputs": [
    {
     "data": {
      "text/plain": [
       "[<matplotlib.lines.Line2D at 0x1cf5dab4ca0>]"
      ]
     },
     "execution_count": 38,
     "metadata": {},
     "output_type": "execute_result"
    },
    {
     "data": {
      "image/png": "[encoded data removed]",
      "text/plain": [
       "<Figure size 432x288 with 1 Axes>"
      ]
     },
     "metadata": {
      "needs_background": "light"
     },
     "output_type": "display_data"
    }
   ],
   "source": [
    "plt.plot([3,5,7,9],color='red')"
   ]
  },
  {
   "cell_type": "code",
   "execution_count": 39,
   "id": "eb5e2f6c",
   "metadata": {},
   "outputs": [
    {
     "data": {
      "text/plain": [
       "Text(0, 0.5, 'value of y')"
      ]
     },
     "execution_count": 39,
     "metadata": {},
     "output_type": "execute_result"
    },
    {
     "data": {
      "image/png": "[encoded data removed]",
      "text/plain": [
       "<Figure size 432x288 with 1 Axes>"
      ]
     },
     "metadata": {
      "needs_background": "light"
     },
     "output_type": "display_data"
    }
   ],
   "source": [
    "x=np.linspace(1,15,60)\n",
    "plt.plot(x,np.cos(x))\n",
    "plt.xlabel(\"value of x\",fontsize=18,color='green')\n",
    "plt.ylabel(\"value of y\",fontsize=18,color='blue')"
   ]
  },
  {
   "cell_type": "code",
   "execution_count": 40,
   "id": "3999a279",
   "metadata": {},
   "outputs": [],
   "source": [
    "#adding tick properties"
   ]
  },
  {
   "cell_type": "code",
   "execution_count": 41,
   "id": "1ec781ac",
   "metadata": {},
   "outputs": [
    {
     "data": {
      "image/png": "[encoded data removed]",
      "text/plain": [
       "<Figure size 432x288 with 1 Axes>"
      ]
     },
     "metadata": {
      "needs_background": "light"
     },
     "output_type": "display_data"
    }
   ],
   "source": [
    "plt.tick_params(axis='x',color='red', labelcolor='magenta',labelsize='large')\n",
    "plt.tick_params(axis='y',left=False, labelleft=False)"
   ]
  },
  {
   "cell_type": "code",
   "execution_count": 42,
   "id": "b1dfc9b1",
   "metadata": {},
   "outputs": [
    {
     "data": {
      "text/plain": [
       "Text(0.5, 1.0, 'Maths Again!!!')"
      ]
     },
     "execution_count": 42,
     "metadata": {},
     "output_type": "execute_result"
    },
    {
     "data": {
      "image/png": "[encoded data removed]",
      "text/plain": [
       "<Figure size 432x288 with 1 Axes>"
      ]
     },
     "metadata": {
      "needs_background": "light"
     },
     "output_type": "display_data"
    }
   ],
   "source": [
    "plt.plot(x,np.cos(x),label='Cosine Curve')\n",
    "plt.legend()\n",
    "plt.title('Maths Again!!!',)\n"
   ]
  },
  {
   "cell_type": "code",
   "execution_count": 43,
   "id": "a0a107e0",
   "metadata": {},
   "outputs": [
    {
     "data": {
      "text/plain": [
       "(0.0, 1.0)"
      ]
     },
     "execution_count": 43,
     "metadata": {},
     "output_type": "execute_result"
    },
    {
     "data": {
      "image/png": "[encoded data removed]",
      "text/plain": [
       "<Figure size 432x288 with 1 Axes>"
      ]
     },
     "metadata": {
      "needs_background": "light"
     },
     "output_type": "display_data"
    }
   ],
   "source": [
    "plt.plot(x,np.cos(x),label='Cosine Curve')\n",
    "plt.legend()\n",
    "plt.title('Maths Again!!!',)\n",
    "plt.xlim(4,10)\n",
    "plt.ylim(0,1)"
   ]
  },
  {
   "cell_type": "code",
   "execution_count": 44,
   "id": "cfb0440d",
   "metadata": {},
   "outputs": [],
   "source": [
    "#Lines and Markers"
   ]
  },
  {
   "cell_type": "code",
   "execution_count": 45,
   "id": "56a69d6e",
   "metadata": {},
   "outputs": [
    {
     "name": "stdout",
     "output_type": "stream",
     "text": [
      "[1, 2, 3, 4, 5, 6, 7, 8, 9, 10, 11, 12, 13, 14, 15, 16, 17, 18, 19]\n",
      "[1, 2, 3, 4, 5, 6, 7, 8, 9, 10, 11, 12, 13, 14, 15, 16, 17, 18, 19]\n",
      "[1, 4, 9, 16, 25, 36, 49, 64, 81, 100, 121, 144, 169, 196, 225, 256, 289, 324, 361]\n",
      "[1, 8, 27, 64, 125, 216, 343, 512, 729, 1000, 1331, 1728, 2197, 2744, 3375, 4096, 4913, 5832, 6859]\n"
     ]
    }
   ],
   "source": [
    "x=[i for i in range(1,20)]\n",
    "y=x\n",
    "y2=[x**2 for x in x]\n",
    "y3=[x**3 for x in x]\n",
    "print(x)\n",
    "print(y)\n",
    "print(y2)\n",
    "print(y3)"
   ]
  },
  {
   "cell_type": "code",
   "execution_count": 46,
   "id": "cca08d6b",
   "metadata": {},
   "outputs": [
    {
     "data": {
      "text/plain": [
       "<matplotlib.legend.Legend at 0x1cf5db9e8e0>"
      ]
     },
     "execution_count": 46,
     "metadata": {},
     "output_type": "execute_result"
    },
    {
     "data": {
      "image/png": "[encoded data removed]",
      "text/plain": [
       "<Figure size 432x288 with 1 Axes>"
      ]
     },
     "metadata": {
      "needs_background": "light"
     },
     "output_type": "display_data"
    }
   ],
   "source": [
    "plt.plot(x,y,label='X vs Y')\n",
    "plt.plot(x,y2,label='X vs Y2')\n",
    "plt.legend()"
   ]
  },
  {
   "cell_type": "code",
   "execution_count": 47,
   "id": "ff5354e5",
   "metadata": {},
   "outputs": [
    {
     "data": {
      "text/plain": [
       "<matplotlib.legend.Legend at 0x1cf5d22a700>"
      ]
     },
     "execution_count": 47,
     "metadata": {},
     "output_type": "execute_result"
    },
    {
     "data": {
      "image/png": "[encoded data removed]",
      "text/plain": [
       "<Figure size 432x288 with 1 Axes>"
      ]
     },
     "metadata": {
      "needs_background": "light"
     },
     "output_type": "display_data"
    }
   ],
   "source": [
    "plt.plot(x,y,label='X vs Y',color='red')\n",
    "plt.plot(x,y2,label='X vs Y2',color='magenta')\n",
    "plt.plot(x,y3,label='X vs Y3',color='cyan')\n",
    "plt.legend()"
   ]
  },
  {
   "cell_type": "code",
   "execution_count": 48,
   "id": "00556db0",
   "metadata": {},
   "outputs": [
    {
     "data": {
      "text/plain": [
       "[<matplotlib.lines.Line2D at 0x1cf5ec5d130>,\n",
       " <matplotlib.lines.Line2D at 0x1cf5ec5d160>,\n",
       " <matplotlib.lines.Line2D at 0x1cf5ec5d340>]"
      ]
     },
     "execution_count": 48,
     "metadata": {},
     "output_type": "execute_result"
    },
    {
     "data": {
      "image/png": "[encoded data removed]",
      "text/plain": [
       "<Figure size 432x288 with 1 Axes>"
      ]
     },
     "metadata": {
      "needs_background": "light"
     },
     "output_type": "display_data"
    }
   ],
   "source": [
    "plt.plot(x,y,'r--', x,y2,'gv', x,y3,'b^')"
   ]
  },
  {
   "cell_type": "code",
   "execution_count": 49,
   "id": "8aa64373",
   "metadata": {},
   "outputs": [
    {
     "data": {
      "text/plain": [
       "array([-0.06495449, -0.93519265,  0.07635918, -0.19256262,  0.19943845,\n",
       "        0.56280364, -2.15785531, -0.92249189,  1.97827429,  2.8734079 ,\n",
       "       -0.8811358 , -0.43562156, -0.62695476,  1.15804714,  2.01882408,\n",
       "        2.94735142, -1.41963   , -1.89416269,  0.08004752,  2.01070955,\n",
       "        0.05137194,  1.68292149,  0.24805087, -1.20437146, -0.47703524,\n",
       "        0.74614037, -0.22366457, -0.24621577,  0.19405409,  0.3476455 ])"
      ]
     },
     "execution_count": 49,
     "metadata": {},
     "output_type": "execute_result"
    }
   ],
   "source": [
    "random_arr=np.random.randn(30)\n",
    "random_arr"
   ]
  },
  {
   "cell_type": "code",
   "execution_count": 50,
   "id": "d99e17dc",
   "metadata": {},
   "outputs": [
    {
     "data": {
      "text/plain": [
       "[<matplotlib.lines.Line2D at 0x1cf5ecd30d0>]"
      ]
     },
     "execution_count": 50,
     "metadata": {},
     "output_type": "execute_result"
    },
    {
     "data": {
      "image/png": "[encoded data removed]",
      "text/plain": [
       "<Figure size 432x288 with 1 Axes>"
      ]
     },
     "metadata": {
      "needs_background": "light"
     },
     "output_type": "display_data"
    }
   ],
   "source": [
    "plt.plot(random_arr,color='blue',linestyle='-.',linewidth=4, marker='*',markersize=10,markerfacecolor='red',\n",
    "        markeredgecolor='yellow')"
   ]
  },
  {
   "cell_type": "code",
   "execution_count": 51,
   "id": "09cae5ec",
   "metadata": {},
   "outputs": [
    {
     "data": {
      "text/plain": [
       "[<matplotlib.lines.Line2D at 0x1cf5ed33730>]"
      ]
     },
     "execution_count": 51,
     "metadata": {},
     "output_type": "execute_result"
    },
    {
     "data": {
      "image/png": "[encoded data removed]",
      "text/plain": [
       "<Figure size 432x288 with 1 Axes>"
      ]
     },
     "metadata": {
      "needs_background": "light"
     },
     "output_type": "display_data"
    }
   ],
   "source": [
    "\n",
    "plt.plot(random_arr,color='blue',linestyle='None',linewidth=4, marker='*',markersize=10,markerfacecolor='red',\n",
    "        markeredgecolor='yellow')"
   ]
  },
  {
   "cell_type": "code",
   "execution_count": 52,
   "id": "86ea968d",
   "metadata": {},
   "outputs": [],
   "source": [
    "df=pd.read_csv('datasets/Salary_Data.csv')"
   ]
  },
  {
   "cell_type": "code",
   "execution_count": 53,
   "id": "5c2c9e01",
   "metadata": {},
   "outputs": [
    {
     "data": {
      "text/html": [
       "<div>\n",
       "<style scoped>\n",
       "    .dataframe tbody tr th:only-of-type {\n",
       "        vertical-align: middle;\n",
       "    }\n",
       "\n",
       "    .dataframe tbody tr th {\n",
       "        vertical-align: top;\n",
       "    }\n",
       "\n",
       "    .dataframe thead th {\n",
       "        text-align: right;\n",
       "    }\n",
       "</style>\n",
       "<table border=\"1\" class=\"dataframe\">\n",
       "  <thead>\n",
       "    <tr style=\"text-align: right;\">\n",
       "      <th></th>\n",
       "      <th>YearsExperience</th>\n",
       "      <th>Salary</th>\n",
       "    </tr>\n",
       "  </thead>\n",
       "  <tbody>\n",
       "    <tr>\n",
       "      <th>0</th>\n",
       "      <td>1.1</td>\n",
       "      <td>39343.0</td>\n",
       "    </tr>\n",
       "    <tr>\n",
       "      <th>1</th>\n",
       "      <td>1.3</td>\n",
       "      <td>46205.0</td>\n",
       "    </tr>\n",
       "    <tr>\n",
       "      <th>2</th>\n",
       "      <td>1.5</td>\n",
       "      <td>37731.0</td>\n",
       "    </tr>\n",
       "    <tr>\n",
       "      <th>3</th>\n",
       "      <td>2.0</td>\n",
       "      <td>43525.0</td>\n",
       "    </tr>\n",
       "    <tr>\n",
       "      <th>4</th>\n",
       "      <td>2.2</td>\n",
       "      <td>39891.0</td>\n",
       "    </tr>\n",
       "    <tr>\n",
       "      <th>5</th>\n",
       "      <td>2.9</td>\n",
       "      <td>56642.0</td>\n",
       "    </tr>\n",
       "    <tr>\n",
       "      <th>6</th>\n",
       "      <td>3.0</td>\n",
       "      <td>60150.0</td>\n",
       "    </tr>\n",
       "    <tr>\n",
       "      <th>7</th>\n",
       "      <td>3.2</td>\n",
       "      <td>54445.0</td>\n",
       "    </tr>\n",
       "    <tr>\n",
       "      <th>8</th>\n",
       "      <td>3.2</td>\n",
       "      <td>64445.0</td>\n",
       "    </tr>\n",
       "    <tr>\n",
       "      <th>9</th>\n",
       "      <td>3.7</td>\n",
       "      <td>57189.0</td>\n",
       "    </tr>\n",
       "    <tr>\n",
       "      <th>10</th>\n",
       "      <td>3.9</td>\n",
       "      <td>63218.0</td>\n",
       "    </tr>\n",
       "    <tr>\n",
       "      <th>11</th>\n",
       "      <td>4.0</td>\n",
       "      <td>55794.0</td>\n",
       "    </tr>\n",
       "    <tr>\n",
       "      <th>12</th>\n",
       "      <td>4.0</td>\n",
       "      <td>56957.0</td>\n",
       "    </tr>\n",
       "    <tr>\n",
       "      <th>13</th>\n",
       "      <td>4.1</td>\n",
       "      <td>57081.0</td>\n",
       "    </tr>\n",
       "    <tr>\n",
       "      <th>14</th>\n",
       "      <td>4.5</td>\n",
       "      <td>61111.0</td>\n",
       "    </tr>\n",
       "    <tr>\n",
       "      <th>15</th>\n",
       "      <td>4.9</td>\n",
       "      <td>67938.0</td>\n",
       "    </tr>\n",
       "    <tr>\n",
       "      <th>16</th>\n",
       "      <td>5.1</td>\n",
       "      <td>66029.0</td>\n",
       "    </tr>\n",
       "    <tr>\n",
       "      <th>17</th>\n",
       "      <td>5.3</td>\n",
       "      <td>83088.0</td>\n",
       "    </tr>\n",
       "    <tr>\n",
       "      <th>18</th>\n",
       "      <td>5.9</td>\n",
       "      <td>81363.0</td>\n",
       "    </tr>\n",
       "    <tr>\n",
       "      <th>19</th>\n",
       "      <td>6.0</td>\n",
       "      <td>93940.0</td>\n",
       "    </tr>\n",
       "    <tr>\n",
       "      <th>20</th>\n",
       "      <td>6.8</td>\n",
       "      <td>91738.0</td>\n",
       "    </tr>\n",
       "    <tr>\n",
       "      <th>21</th>\n",
       "      <td>7.1</td>\n",
       "      <td>98273.0</td>\n",
       "    </tr>\n",
       "    <tr>\n",
       "      <th>22</th>\n",
       "      <td>7.9</td>\n",
       "      <td>101302.0</td>\n",
       "    </tr>\n",
       "    <tr>\n",
       "      <th>23</th>\n",
       "      <td>8.2</td>\n",
       "      <td>113812.0</td>\n",
       "    </tr>\n",
       "    <tr>\n",
       "      <th>24</th>\n",
       "      <td>8.7</td>\n",
       "      <td>109431.0</td>\n",
       "    </tr>\n",
       "    <tr>\n",
       "      <th>25</th>\n",
       "      <td>9.0</td>\n",
       "      <td>105582.0</td>\n",
       "    </tr>\n",
       "    <tr>\n",
       "      <th>26</th>\n",
       "      <td>9.5</td>\n",
       "      <td>116969.0</td>\n",
       "    </tr>\n",
       "    <tr>\n",
       "      <th>27</th>\n",
       "      <td>9.6</td>\n",
       "      <td>112635.0</td>\n",
       "    </tr>\n",
       "    <tr>\n",
       "      <th>28</th>\n",
       "      <td>10.3</td>\n",
       "      <td>122391.0</td>\n",
       "    </tr>\n",
       "    <tr>\n",
       "      <th>29</th>\n",
       "      <td>10.5</td>\n",
       "      <td>121872.0</td>\n",
       "    </tr>\n",
       "  </tbody>\n",
       "</table>\n",
       "</div>"
      ],
      "text/plain": [
       "    YearsExperience    Salary\n",
       "0               1.1   39343.0\n",
       "1               1.3   46205.0\n",
       "2               1.5   37731.0\n",
       "3               2.0   43525.0\n",
       "4               2.2   39891.0\n",
       "5               2.9   56642.0\n",
       "6               3.0   60150.0\n",
       "7               3.2   54445.0\n",
       "8               3.2   64445.0\n",
       "9               3.7   57189.0\n",
       "10              3.9   63218.0\n",
       "11              4.0   55794.0\n",
       "12              4.0   56957.0\n",
       "13              4.1   57081.0\n",
       "14              4.5   61111.0\n",
       "15              4.9   67938.0\n",
       "16              5.1   66029.0\n",
       "17              5.3   83088.0\n",
       "18              5.9   81363.0\n",
       "19              6.0   93940.0\n",
       "20              6.8   91738.0\n",
       "21              7.1   98273.0\n",
       "22              7.9  101302.0\n",
       "23              8.2  113812.0\n",
       "24              8.7  109431.0\n",
       "25              9.0  105582.0\n",
       "26              9.5  116969.0\n",
       "27              9.6  112635.0\n",
       "28             10.3  122391.0\n",
       "29             10.5  121872.0"
      ]
     },
     "execution_count": 53,
     "metadata": {},
     "output_type": "execute_result"
    }
   ],
   "source": [
    "df"
   ]
  },
  {
   "cell_type": "code",
   "execution_count": 54,
   "id": "e617dd4d",
   "metadata": {},
   "outputs": [
    {
     "data": {
      "text/plain": [
       "Text(0.5, 1.0, 'Employee Data')"
      ]
     },
     "execution_count": 54,
     "metadata": {},
     "output_type": "execute_result"
    },
    {
     "data": {
      "image/png": "[encoded data removed]",
      "text/plain": [
       "<Figure size 432x288 with 1 Axes>"
      ]
     },
     "metadata": {
      "needs_background": "light"
     },
     "output_type": "display_data"
    }
   ],
   "source": [
    "plt.scatter(df['YearsExperience'],df['Salary'],c='red',s=100,alpha=.8,marker='x')\n",
    "plt.xlabel('Experience')\n",
    "plt.ylabel('Salary')\n",
    "plt.title('Employee Data')"
   ]
  },
  {
   "cell_type": "code",
   "execution_count": 55,
   "id": "f76cd4d6",
   "metadata": {},
   "outputs": [
    {
     "data": {
      "text/plain": [
       "Text(0.5, 1.0, 'Employee Data')"
      ]
     },
     "execution_count": 55,
     "metadata": {},
     "output_type": "execute_result"
    },
    {
     "data": {
      "image/png": "[encoded data removed]",
      "text/plain": [
       "<Figure size 432x288 with 1 Axes>"
      ]
     },
     "metadata": {
      "needs_background": "light"
     },
     "output_type": "display_data"
    }
   ],
   "source": [
    "plt.plot(df['YearsExperience'],df['Salary'],c='blue',alpha=.8,marker='x')\n",
    "plt.xlabel('Experience')\n",
    "plt.ylabel('Salary')\n",
    "plt.title('Employee Data')"
   ]
  },
  {
   "cell_type": "code",
   "execution_count": 56,
   "id": "796b3f87",
   "metadata": {},
   "outputs": [],
   "source": [
    "#Object Oriented Approach"
   ]
  },
  {
   "cell_type": "code",
   "execution_count": 57,
   "id": "5b0e6359",
   "metadata": {},
   "outputs": [
    {
     "data": {
      "image/png": "[encoded data removed]",
      "text/plain": [
       "<Figure size 432x288 with 1 Axes>"
      ]
     },
     "metadata": {
      "needs_background": "light"
     },
     "output_type": "display_data"
    }
   ],
   "source": [
    "fig=plt.figure()\n",
    "ax=fig.add_axes([0,0,1,1])"
   ]
  },
  {
   "cell_type": "code",
   "execution_count": 58,
   "id": "42b6eaeb",
   "metadata": {},
   "outputs": [
    {
     "data": {
      "image/png": "[encoded data removed]",
      "text/plain": [
       "<Figure size 432x288 with 1 Axes>"
      ]
     },
     "metadata": {
      "needs_background": "light"
     },
     "output_type": "display_data"
    }
   ],
   "source": [
    "fig=plt.figure()\n",
    "ax=fig.add_axes([0,0,0.9,0.9])"
   ]
  },
  {
   "cell_type": "code",
   "execution_count": 59,
   "id": "c6fa1f13",
   "metadata": {},
   "outputs": [
    {
     "data": {
      "image/png": "[encoded data removed]",
      "text/plain": [
       "<Figure size 432x288 with 2 Axes>"
      ]
     },
     "metadata": {
      "needs_background": "light"
     },
     "output_type": "display_data"
    }
   ],
   "source": [
    "fig=plt.figure()\n",
    "ax1=fig.add_axes([0,0,0.9,0.9])\n",
    "ax2=fig.add_axes([0,1,1.9,0.9])"
   ]
  },
  {
   "cell_type": "code",
   "execution_count": 60,
   "id": "d32bf75a",
   "metadata": {},
   "outputs": [],
   "source": [
    "x=np.linspace(1,15,60)\n"
   ]
  },
  {
   "cell_type": "code",
   "execution_count": 61,
   "id": "414947c0",
   "metadata": {},
   "outputs": [
    {
     "data": {
      "text/plain": [
       "[<matplotlib.lines.Line2D at 0x1cf5f3b6ac0>]"
      ]
     },
     "execution_count": 61,
     "metadata": {},
     "output_type": "execute_result"
    },
    {
     "data": {
      "image/png": "[encoded data removed]",
      "text/plain": [
       "<Figure size 432x288 with 2 Axes>"
      ]
     },
     "metadata": {
      "needs_background": "light"
     },
     "output_type": "display_data"
    }
   ],
   "source": [
    "fig=plt.figure()\n",
    "ax1=fig.add_axes([0,0.7,1.2,0.5])\n",
    "ax2=fig.add_axes([0,0,0.8,0.5])\n",
    "ax1.plot(x,np.trunc(x),'r-o')\n",
    "ax2.plot(x,np.tan(x),'b--')"
   ]
  },
  {
   "cell_type": "code",
   "execution_count": 63,
   "id": "1c9e7854",
   "metadata": {},
   "outputs": [
    {
     "ename": "NameError",
     "evalue": "name 'set_xlabel' is not defined",
     "output_type": "error",
     "traceback": [
      "\u001b[1;31m---------------------------------------------------------------------------\u001b[0m",
      "\u001b[1;31mNameError\u001b[0m                                 Traceback (most recent call last)",
      "Input \u001b[1;32mIn [63]\u001b[0m, in \u001b[0;36m<cell line: 3>\u001b[1;34m()\u001b[0m\n\u001b[0;32m      1\u001b[0m fig\u001b[38;5;241m=\u001b[39mplt\u001b[38;5;241m.\u001b[39mfigure()\n\u001b[0;32m      2\u001b[0m ax1\u001b[38;5;241m=\u001b[39mfig\u001b[38;5;241m.\u001b[39madd_axes([\u001b[38;5;241m0\u001b[39m,\u001b[38;5;241m0.7\u001b[39m,\u001b[38;5;241m1.2\u001b[39m,\u001b[38;5;241m0.5\u001b[39m])\n\u001b[1;32m----> 3\u001b[0m ax1\u001b[38;5;241m=\u001b[39m\u001b[43mset_xlabel\u001b[49m(\u001b[38;5;124m'\u001b[39m\u001b[38;5;124mtan(x)\u001b[39m\u001b[38;5;124m'\u001b[39m,fontsize\u001b[38;5;241m=\u001b[39m\u001b[38;5;241m15\u001b[39m,color\u001b[38;5;241m=\u001b[39m\u001b[38;5;124m'\u001b[39m\u001b[38;5;124m#FF1493\u001b[39m\u001b[38;5;124m'\u001b[39m)\n\u001b[0;32m      4\u001b[0m ax1\u001b[38;5;241m=\u001b[39mset_ylabel(\u001b[38;5;124m'\u001b[39m\u001b[38;5;124mtrunc(x)\u001b[39m\u001b[38;5;124m'\u001b[39m,fontsize\u001b[38;5;241m=\u001b[39m\u001b[38;5;241m15\u001b[39m,color\u001b[38;5;241m=\u001b[39m\u001b[38;5;124m'\u001b[39m\u001b[38;5;124m#FF1493\u001b[39m\u001b[38;5;124m'\u001b[39m)\n\u001b[0;32m      5\u001b[0m ax2\u001b[38;5;241m=\u001b[39mfig\u001b[38;5;241m.\u001b[39madd_axes([\u001b[38;5;241m0\u001b[39m,\u001b[38;5;241m0\u001b[39m,\u001b[38;5;241m0.8\u001b[39m,\u001b[38;5;241m0.5\u001b[39m])\n",
      "\u001b[1;31mNameError\u001b[0m: name 'set_xlabel' is not defined"
     ]
    },
    {
     "data": {
      "image/png": "[encoded data removed]",
      "text/plain": [
       "<Figure size 432x288 with 1 Axes>"
      ]
     },
     "metadata": {
      "needs_background": "light"
     },
     "output_type": "display_data"
    }
   ],
   "source": [
    "fig=plt.figure()\n",
    "ax1=fig.add_axes([0,0.7,1.2,0.5])\n",
    "ax1=set_xlabel('tan(x)',fontsize=15,color='#FF1493')\n",
    "ax1=set_ylabel('trunc(x)',fontsize=15,color='#FF1493')\n",
    "ax2=fig.add_axes([0,0,0.8,0.5])\n",
    "ax2=set_xlabel('x',fontsize=15,color='#FF1493')\n",
    "ax2=set_ylabel('tan(x)',fontsize=15,color='#FF1493')\n",
    "ax1.plot(x,np.trun(x),'r-o')\n",
    "ax2.plot(x,np.trun(x),'r-o')"
   ]
  },
  {
   "cell_type": "code",
   "execution_count": 64,
   "id": "c4eb242e",
   "metadata": {},
   "outputs": [
    {
     "data": {
      "image/png": "[encoded data removed]",
      "text/plain": [
       "<Figure size 432x288 with 3 Axes>"
      ]
     },
     "metadata": {
      "needs_background": "light"
     },
     "output_type": "display_data"
    }
   ],
   "source": [
    "fig=plt.figure()\n",
    "ax1=fig.add_axes([0,0,1.5,1.5])\n",
    "ax2=fig.add_axes([0.1,0.1,0.6,0.6])\n",
    "ax2=fig.add_axes([0.7,0.8,0.6,0.6])"
   ]
  },
  {
   "cell_type": "code",
   "execution_count": 65,
   "id": "0d628f10",
   "metadata": {},
   "outputs": [
    {
     "data": {
      "image/png": "[encoded data removed]",
      "text/plain": [
       "<Figure size 720x576 with 4 Axes>"
      ]
     },
     "metadata": {
      "needs_background": "light"
     },
     "output_type": "display_data"
    }
   ],
   "source": [
    "fig.ax=plt.subplots(nrows=2,ncols=2,figsize=(10,8))"
   ]
  },
  {
   "cell_type": "code",
   "execution_count": 66,
   "id": "cee27bfc",
   "metadata": {},
   "outputs": [
    {
     "data": {
      "image/png": "[encoded data removed]",
      "text/plain": [
       "<Figure size 720x576 with 4 Axes>"
      ]
     },
     "metadata": {
      "needs_background": "light"
     },
     "output_type": "display_data"
    }
   ],
   "source": [
    "fig, ax=plt.subplots(nrows=2,ncols=2,figsize=(10,8))\n",
    "ax[0][0].plot(x,np.trunc(x),'b')\n",
    "ax[0][1].plot(x,np.tan(x),'g')\n",
    "ax[1][0].plot(x,np.sin(x),'r')\n",
    "ax[1][1].plot(x,np.cos(x),'y')\n",
    "plt.show()"
   ]
  }
 ],
 "metadata": {
  "kernelspec": {
   "display_name": "Python 3 (ipykernel)",
   "language": "python",
   "name": "python3"
  },
  "language_info": {
   "codemirror_mode": {
    "name": "ipython",
    "version": 3
   },
   "file_extension": ".py",
   "mimetype": "text/x-python",
   "name": "python",
   "nbconvert_exporter": "python",
   "pygments_lexer": "ipython3",
   "version": "3.9.12"
  },
  "toc": {
   "base_numbering": 1,
   "nav_menu": {},
   "number_sections": true,
   "sideBar": true,
   "skip_h1_title": false,
   "title_cell": "Table of Contents",
   "title_sidebar": "Contents",
   "toc_cell": false,
   "toc_position": {},
   "toc_section_display": true,
   "toc_window_display": false
  }
 },
 "nbformat": 4,
 "nbformat_minor": 5
}
