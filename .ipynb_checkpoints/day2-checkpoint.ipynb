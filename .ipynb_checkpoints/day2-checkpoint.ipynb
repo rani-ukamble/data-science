{
 "cells": [
  {
   "cell_type": "code",
   "execution_count": null,
   "id": "51855362",
   "metadata": {},
   "outputs": [],
   "source": [
    "#set"
   ]
  },
  {
   "cell_type": "code",
   "execution_count": 1,
   "id": "cd72cad3",
   "metadata": {},
   "outputs": [
    {
     "data": {
      "text/plain": [
       "dict"
      ]
     },
     "execution_count": 1,
     "metadata": {},
     "output_type": "execute_result"
    }
   ],
   "source": [
    "set1={}\n",
    "type(set1)\n"
   ]
  },
  {
   "cell_type": "code",
   "execution_count": 2,
   "id": "63778bb4",
   "metadata": {},
   "outputs": [
    {
     "data": {
      "text/plain": [
       "set"
      ]
     },
     "execution_count": 2,
     "metadata": {},
     "output_type": "execute_result"
    }
   ],
   "source": [
    "set1=set()   #empty set\n",
    "type(set1)"
   ]
  },
  {
   "cell_type": "code",
   "execution_count": 4,
   "id": "948093c7",
   "metadata": {},
   "outputs": [
    {
     "data": {
      "text/plain": [
       "{1, 2, 3, 4, 5, 6, 7, 'hi', 'ss'}"
      ]
     },
     "execution_count": 4,
     "metadata": {},
     "output_type": "execute_result"
    }
   ],
   "source": [
    "set1={1,2,3,4,5,6,7,\"ss\",\"hi\"}\n",
    "set1"
   ]
  },
  {
   "cell_type": "markdown",
   "id": "c83e1c97",
   "metadata": {},
   "source": [
    "set2={20,30,40}\n",
    "set2.pop()\n",
    "set2"
   ]
  },
  {
   "cell_type": "code",
   "execution_count": 5,
   "id": "81c28efa",
   "metadata": {},
   "outputs": [
    {
     "data": {
      "text/plain": [
       "{1, 2, 3, 4, 5, 6, 7, 'ss'}"
      ]
     },
     "execution_count": 5,
     "metadata": {},
     "output_type": "execute_result"
    }
   ],
   "source": [
    "set1.pop()\n",
    "set1"
   ]
  },
  {
   "cell_type": "code",
   "execution_count": 6,
   "id": "0979e68e",
   "metadata": {},
   "outputs": [
    {
     "data": {
      "text/plain": [
       "{2, 3, 4, 5, 6, 7, 'ss'}"
      ]
     },
     "execution_count": 6,
     "metadata": {},
     "output_type": "execute_result"
    }
   ],
   "source": [
    "set1.pop()\n",
    "set1"
   ]
  },
  {
   "cell_type": "code",
   "execution_count": 7,
   "id": "722cacc9",
   "metadata": {},
   "outputs": [
    {
     "data": {
      "text/plain": [
       "{2, 3, 4, 5, 6, 'ss'}"
      ]
     },
     "execution_count": 7,
     "metadata": {},
     "output_type": "execute_result"
    }
   ],
   "source": [
    "set1.remove(7)\n",
    "set1"
   ]
  },
  {
   "cell_type": "code",
   "execution_count": 9,
   "id": "21f9f7db",
   "metadata": {},
   "outputs": [
    {
     "data": {
      "text/plain": [
       "{3, 4, 5, 'ss'}"
      ]
     },
     "execution_count": 9,
     "metadata": {},
     "output_type": "execute_result"
    }
   ],
   "source": [
    "set1.discard(6)\n",
    "set1"
   ]
  },
  {
   "cell_type": "code",
   "execution_count": 10,
   "id": "96e66ac1",
   "metadata": {},
   "outputs": [
    {
     "data": {
      "text/plain": [
       "{3, 5, 'ss'}"
      ]
     },
     "execution_count": 10,
     "metadata": {},
     "output_type": "execute_result"
    }
   ],
   "source": [
    "set1.discard(4)\n",
    "set1"
   ]
  },
  {
   "cell_type": "code",
   "execution_count": 11,
   "id": "62387158",
   "metadata": {},
   "outputs": [
    {
     "data": {
      "text/plain": [
       "{3, 5, 'ss'}"
      ]
     },
     "execution_count": 11,
     "metadata": {},
     "output_type": "execute_result"
    }
   ],
   "source": [
    "set1.discard(600)\n",
    "set1"
   ]
  },
  {
   "cell_type": "code",
   "execution_count": 12,
   "id": "3870a166",
   "metadata": {},
   "outputs": [
    {
     "ename": "KeyError",
     "evalue": "600",
     "output_type": "error",
     "traceback": [
      "\u001b[1;31m---------------------------------------------------------------------------\u001b[0m",
      "\u001b[1;31mKeyError\u001b[0m                                  Traceback (most recent call last)",
      "Input \u001b[1;32mIn [12]\u001b[0m, in \u001b[0;36m<cell line: 1>\u001b[1;34m()\u001b[0m\n\u001b[1;32m----> 1\u001b[0m \u001b[43mset1\u001b[49m\u001b[38;5;241;43m.\u001b[39;49m\u001b[43mremove\u001b[49m\u001b[43m(\u001b[49m\u001b[38;5;241;43m600\u001b[39;49m\u001b[43m)\u001b[49m\n\u001b[0;32m      2\u001b[0m set1\n",
      "\u001b[1;31mKeyError\u001b[0m: 600"
     ]
    }
   ],
   "source": [
    "set1.remove(600)\n",
    "set1"
   ]
  },
  {
   "cell_type": "code",
   "execution_count": 13,
   "id": "e19acdcb",
   "metadata": {},
   "outputs": [
    {
     "data": {
      "text/plain": [
       "set()"
      ]
     },
     "execution_count": 13,
     "metadata": {},
     "output_type": "execute_result"
    }
   ],
   "source": [
    "set1.clear()\n",
    "set1"
   ]
  },
  {
   "cell_type": "code",
   "execution_count": 16,
   "id": "658e447d",
   "metadata": {},
   "outputs": [
    {
     "data": {
      "text/plain": [
       "{40}"
      ]
     },
     "execution_count": 16,
     "metadata": {},
     "output_type": "execute_result"
    }
   ],
   "source": [
    "set1.add(40)\n",
    "set1"
   ]
  },
  {
   "cell_type": "code",
   "execution_count": 17,
   "id": "9856993e",
   "metadata": {},
   "outputs": [
    {
     "data": {
      "text/plain": [
       "{1, 22, 3, 4, 5, 6, 'gh', 'jk', 'vk'}"
      ]
     },
     "execution_count": 17,
     "metadata": {},
     "output_type": "execute_result"
    }
   ],
   "source": [
    "set2={22,3,4,1,5,6,'gh','jk','vk'}\n",
    "set2"
   ]
  },
  {
   "cell_type": "code",
   "execution_count": 18,
   "id": "577e1393",
   "metadata": {},
   "outputs": [
    {
     "data": {
      "text/plain": [
       "{1, 22, 3, 4, 40, 5, 6, 'gh', 'jk', 'vk'}"
      ]
     },
     "execution_count": 18,
     "metadata": {},
     "output_type": "execute_result"
    }
   ],
   "source": [
    "set2.update(set1)\n",
    "set2"
   ]
  },
  {
   "cell_type": "code",
   "execution_count": 19,
   "id": "63f86794",
   "metadata": {},
   "outputs": [
    {
     "data": {
      "text/plain": [
       "{40}"
      ]
     },
     "execution_count": 19,
     "metadata": {},
     "output_type": "execute_result"
    }
   ],
   "source": [
    "set3=set1.copy()\n",
    "set3"
   ]
  },
  {
   "cell_type": "code",
   "execution_count": 20,
   "id": "33c4ea51",
   "metadata": {},
   "outputs": [
    {
     "data": {
      "text/plain": [
       "{1, 22, 3, 4, 40, 5, 6, 'gh', 'jk', 'vk'}"
      ]
     },
     "execution_count": 20,
     "metadata": {},
     "output_type": "execute_result"
    }
   ],
   "source": [
    "set2"
   ]
  },
  {
   "cell_type": "code",
   "execution_count": 21,
   "id": "6c692759",
   "metadata": {},
   "outputs": [
    {
     "data": {
      "text/plain": [
       "{22, 3, 4, 40, 5, 6, 'gh', 'jk', 'vk'}"
      ]
     },
     "execution_count": 21,
     "metadata": {},
     "output_type": "execute_result"
    }
   ],
   "source": [
    "set2.pop()\n",
    "set2"
   ]
  },
  {
   "cell_type": "code",
   "execution_count": 22,
   "id": "f52ab088",
   "metadata": {},
   "outputs": [
    {
     "data": {
      "text/plain": [
       "{22, 4, 40, 5, 6, 'gh', 'jk', 'vk'}"
      ]
     },
     "execution_count": 22,
     "metadata": {},
     "output_type": "execute_result"
    }
   ],
   "source": [
    "set2.pop()\n",
    "set2"
   ]
  },
  {
   "cell_type": "code",
   "execution_count": 23,
   "id": "b760efe0",
   "metadata": {},
   "outputs": [
    {
     "data": {
      "text/plain": [
       "{22, 40, 5, 6, 'gh', 'jk', 'vk'}"
      ]
     },
     "execution_count": 23,
     "metadata": {},
     "output_type": "execute_result"
    }
   ],
   "source": [
    "set2.pop()\n",
    "set2"
   ]
  },
  {
   "cell_type": "code",
   "execution_count": 24,
   "id": "283c37c3",
   "metadata": {},
   "outputs": [
    {
     "data": {
      "text/plain": [
       "{22, 5, 6, 'gh', 'jk', 'vk'}"
      ]
     },
     "execution_count": 24,
     "metadata": {},
     "output_type": "execute_result"
    }
   ],
   "source": [
    "set2.remove(40)\n",
    "set2"
   ]
  },
  {
   "cell_type": "code",
   "execution_count": 25,
   "id": "297093db",
   "metadata": {},
   "outputs": [
    {
     "data": {
      "text/plain": [
       "{5, 6, 'gh', 'jk', 'vk'}"
      ]
     },
     "execution_count": 25,
     "metadata": {},
     "output_type": "execute_result"
    }
   ],
   "source": [
    "set2.discard(22)\n",
    "set2"
   ]
  },
  {
   "cell_type": "code",
   "execution_count": 26,
   "id": "56fab2f8",
   "metadata": {},
   "outputs": [
    {
     "data": {
      "text/plain": [
       "{5, 6, 'gh', 'jk', 'vk'}"
      ]
     },
     "execution_count": 26,
     "metadata": {},
     "output_type": "execute_result"
    }
   ],
   "source": [
    "set2.discard(666)\n",
    "set2"
   ]
  },
  {
   "cell_type": "code",
   "execution_count": 27,
   "id": "aab645ce",
   "metadata": {},
   "outputs": [
    {
     "ename": "KeyError",
     "evalue": "666",
     "output_type": "error",
     "traceback": [
      "\u001b[1;31m---------------------------------------------------------------------------\u001b[0m",
      "\u001b[1;31mKeyError\u001b[0m                                  Traceback (most recent call last)",
      "Input \u001b[1;32mIn [27]\u001b[0m, in \u001b[0;36m<cell line: 1>\u001b[1;34m()\u001b[0m\n\u001b[1;32m----> 1\u001b[0m \u001b[43mset2\u001b[49m\u001b[38;5;241;43m.\u001b[39;49m\u001b[43mremove\u001b[49m\u001b[43m(\u001b[49m\u001b[38;5;241;43m666\u001b[39;49m\u001b[43m)\u001b[49m\n\u001b[0;32m      2\u001b[0m set2\n",
      "\u001b[1;31mKeyError\u001b[0m: 666"
     ]
    }
   ],
   "source": [
    "set2.remove(666)\n",
    "set2"
   ]
  },
  {
   "cell_type": "code",
   "execution_count": 28,
   "id": "585ba947",
   "metadata": {},
   "outputs": [
    {
     "data": {
      "text/plain": [
       "{6, 'gh', 'jk', 'vk'}"
      ]
     },
     "execution_count": 28,
     "metadata": {},
     "output_type": "execute_result"
    }
   ],
   "source": [
    "set2.pop()\n",
    "set2"
   ]
  },
  {
   "cell_type": "code",
   "execution_count": 29,
   "id": "6944bc9e",
   "metadata": {},
   "outputs": [
    {
     "data": {
      "text/plain": [
       "{1, 2, 3, 4, 5, 6, 7}"
      ]
     },
     "execution_count": 29,
     "metadata": {},
     "output_type": "execute_result"
    }
   ],
   "source": [
    "set1={1,2,3,4}\n",
    "set2={4,5,6,7}\n",
    "set1.union(set2)\n"
   ]
  },
  {
   "cell_type": "code",
   "execution_count": 30,
   "id": "1cad327d",
   "metadata": {},
   "outputs": [
    {
     "data": {
      "text/plain": [
       "{4}"
      ]
     },
     "execution_count": 30,
     "metadata": {},
     "output_type": "execute_result"
    }
   ],
   "source": [
    "set1.intersection(set2)"
   ]
  },
  {
   "cell_type": "code",
   "execution_count": 31,
   "id": "d20a04ec",
   "metadata": {},
   "outputs": [
    {
     "data": {
      "text/plain": [
       "{1, 2, 3}"
      ]
     },
     "execution_count": 31,
     "metadata": {},
     "output_type": "execute_result"
    }
   ],
   "source": [
    "set1.difference(set2)"
   ]
  },
  {
   "cell_type": "code",
   "execution_count": 55,
   "id": "0c9d44ae",
   "metadata": {},
   "outputs": [
    {
     "ename": "AttributeError",
     "evalue": "'set' object has no attribute 'symmentricdifference'",
     "output_type": "error",
     "traceback": [
      "\u001b[1;31m---------------------------------------------------------------------------\u001b[0m",
      "\u001b[1;31mAttributeError\u001b[0m                            Traceback (most recent call last)",
      "Input \u001b[1;32mIn [55]\u001b[0m, in \u001b[0;36m<cell line: 1>\u001b[1;34m()\u001b[0m\n\u001b[1;32m----> 1\u001b[0m \u001b[43mset1\u001b[49m\u001b[38;5;241;43m.\u001b[39;49m\u001b[43msymmentricdifference\u001b[49m(set2)\n",
      "\u001b[1;31mAttributeError\u001b[0m: 'set' object has no attribute 'symmentricdifference'"
     ]
    }
   ],
   "source": [
    "set1.symmentric_difference(set2)\n"
   ]
  },
  {
   "cell_type": "code",
   "execution_count": 33,
   "id": "d79c1fb2",
   "metadata": {},
   "outputs": [],
   "source": [
    "x={x*x for x in range(5)}"
   ]
  },
  {
   "cell_type": "code",
   "execution_count": 34,
   "id": "289c2eb5",
   "metadata": {},
   "outputs": [
    {
     "data": {
      "text/plain": [
       "{0, 1, 4, 9, 16}"
      ]
     },
     "execution_count": 34,
     "metadata": {},
     "output_type": "execute_result"
    }
   ],
   "source": [
    "x"
   ]
  },
  {
   "cell_type": "code",
   "execution_count": 40,
   "id": "b70ebf64",
   "metadata": {},
   "outputs": [
    {
     "ename": "AttributeError",
     "evalue": "'str' object has no attribute 'size'",
     "output_type": "error",
     "traceback": [
      "\u001b[1;31m---------------------------------------------------------------------------\u001b[0m",
      "\u001b[1;31mAttributeError\u001b[0m                            Traceback (most recent call last)",
      "Input \u001b[1;32mIn [40]\u001b[0m, in \u001b[0;36m<cell line: 2>\u001b[1;34m()\u001b[0m\n\u001b[0;32m      1\u001b[0m x\u001b[38;5;241m=\u001b[39m\u001b[38;5;124m'\u001b[39m\u001b[38;5;124mhello\u001b[39m\u001b[38;5;124m'\u001b[39m\n\u001b[1;32m----> 2\u001b[0m \u001b[38;5;28;01mfor\u001b[39;00m x \u001b[38;5;129;01min\u001b[39;00m \u001b[38;5;28mrange\u001b[39m(\u001b[43mx\u001b[49m\u001b[38;5;241;43m.\u001b[39;49m\u001b[43msize\u001b[49m()):\n\u001b[0;32m      3\u001b[0m     \u001b[38;5;28mprint\u001b[39m(x)\n",
      "\u001b[1;31mAttributeError\u001b[0m: 'str' object has no attribute 'size'"
     ]
    }
   ],
   "source": [
    "x='hello'\n",
    "for x in range(x.size()):\n",
    "    print(x)"
   ]
  },
  {
   "cell_type": "code",
   "execution_count": 42,
   "id": "2cc02954",
   "metadata": {},
   "outputs": [
    {
     "name": "stdout",
     "output_type": "stream",
     "text": [
      "enter a word : rani\n",
      "{'i', 'a'}\n"
     ]
    }
   ],
   "source": [
    "#find vowels in word\n",
    "\n",
    "word=input('enter a word : ')\n",
    "s=set(word)\n",
    "v={'a','e','i','o','u'}\n",
    "output=s.intersection(v)\n",
    "print(output)"
   ]
  },
  {
   "cell_type": "code",
   "execution_count": null,
   "id": "09966ce1",
   "metadata": {},
   "outputs": [],
   "source": [
    "#dictionary"
   ]
  },
  {
   "cell_type": "code",
   "execution_count": 64,
   "id": "08b985ee",
   "metadata": {},
   "outputs": [
    {
     "data": {
      "text/plain": [
       "{1: 11, 2: 22, 3: 'rani'}"
      ]
     },
     "execution_count": 64,
     "metadata": {},
     "output_type": "execute_result"
    }
   ],
   "source": [
    "d={1:11,2:22,3:'rani'}\n",
    "d"
   ]
  },
  {
   "cell_type": "code",
   "execution_count": 44,
   "id": "b42a0e1f",
   "metadata": {},
   "outputs": [
    {
     "data": {
      "text/plain": [
       "{'a': 'cc', 'b': 'bb'}"
      ]
     },
     "execution_count": 44,
     "metadata": {},
     "output_type": "execute_result"
    }
   ],
   "source": [
    "dict1={'a':'aa','b':'bb','a':'cc'}\n",
    "dict1"
   ]
  },
  {
   "cell_type": "code",
   "execution_count": 51,
   "id": "bb9a7afc",
   "metadata": {},
   "outputs": [
    {
     "data": {
      "text/plain": [
       "{(1, 2, 3): 'aa', (1, 2, 3, 5): 'bb', 'a': 'cc'}"
      ]
     },
     "execution_count": 51,
     "metadata": {},
     "output_type": "execute_result"
    }
   ],
   "source": [
    "dict1={(1,2,3):'aa',(1,2,3,5):'bb','a':'cc'}\n",
    "dict1"
   ]
  },
  {
   "cell_type": "code",
   "execution_count": 52,
   "id": "ab177262",
   "metadata": {},
   "outputs": [
    {
     "ename": "TypeError",
     "evalue": "pop expected at least 1 argument, got 0",
     "output_type": "error",
     "traceback": [
      "\u001b[1;31m---------------------------------------------------------------------------\u001b[0m",
      "\u001b[1;31mTypeError\u001b[0m                                 Traceback (most recent call last)",
      "Input \u001b[1;32mIn [52]\u001b[0m, in \u001b[0;36m<cell line: 1>\u001b[1;34m()\u001b[0m\n\u001b[1;32m----> 1\u001b[0m \u001b[43mdict1\u001b[49m\u001b[38;5;241;43m.\u001b[39;49m\u001b[43mpop\u001b[49m\u001b[43m(\u001b[49m\u001b[43m)\u001b[49m\n",
      "\u001b[1;31mTypeError\u001b[0m: pop expected at least 1 argument, got 0"
     ]
    }
   ],
   "source": [
    "dict1.pop()"
   ]
  },
  {
   "cell_type": "code",
   "execution_count": 62,
   "id": "bc9ae48a",
   "metadata": {},
   "outputs": [
    {
     "data": {
      "text/plain": [
       "'bb'"
      ]
     },
     "execution_count": 62,
     "metadata": {},
     "output_type": "execute_result"
    }
   ],
   "source": [
    "dict1.pop((1,2,3,5)) #pop needs arguments for dict"
   ]
  },
  {
   "cell_type": "code",
   "execution_count": 63,
   "id": "0398727e",
   "metadata": {},
   "outputs": [
    {
     "data": {
      "text/plain": [
       "{'a': 'cc'}"
      ]
     },
     "execution_count": 63,
     "metadata": {},
     "output_type": "execute_result"
    }
   ],
   "source": [
    "dict1\n"
   ]
  },
  {
   "cell_type": "code",
   "execution_count": 65,
   "id": "928805c5",
   "metadata": {},
   "outputs": [
    {
     "data": {
      "text/plain": [
       "{1: 'sk', 2: 'vk', 3: 'jk'}"
      ]
     },
     "execution_count": 65,
     "metadata": {},
     "output_type": "execute_result"
    }
   ],
   "source": [
    "d2={1:'rk',2:'vk',3:'jk',1:'sk'}   #value of key 1 is overriden\n",
    "d2"
   ]
  },
  {
   "cell_type": "code",
   "execution_count": 67,
   "id": "84643a40",
   "metadata": {},
   "outputs": [
    {
     "name": "stdout",
     "output_type": "stream",
     "text": [
      "{'a': 'saki', 'b': 'baki', 'c': 'raki', 'd': 'kaki'}\n"
     ]
    }
   ],
   "source": [
    "dict1['a']='saki'\n",
    "dict1['b']='baki'\n",
    "dict1['c']='raki'\n",
    "dict1['d']='kaki'\n",
    "print(dict1)"
   ]
  },
  {
   "cell_type": "code",
   "execution_count": 68,
   "id": "c7d4e0da",
   "metadata": {},
   "outputs": [
    {
     "data": {
      "text/plain": [
       "'saki'"
      ]
     },
     "execution_count": 68,
     "metadata": {},
     "output_type": "execute_result"
    }
   ],
   "source": [
    "dict1['a']"
   ]
  },
  {
   "cell_type": "code",
   "execution_count": 69,
   "id": "098b8b76",
   "metadata": {},
   "outputs": [
    {
     "name": "stdout",
     "output_type": "stream",
     "text": [
      "['False', 'None', 'True', '__peg_parser__', 'and', 'as', 'assert', 'async', 'await', 'break', 'class', 'continue', 'def', 'del', 'elif', 'else', 'except', 'finally', 'for', 'from', 'global', 'if', 'import', 'in', 'is', 'lambda', 'nonlocal', 'not', 'or', 'pass', 'raise', 'return', 'try', 'while', 'with', 'yield']\n"
     ]
    }
   ],
   "source": [
    "#print all leywords in python\n",
    "\n",
    "import keyword\n",
    "print(keyword.kwlist)"
   ]
  },
  {
   "cell_type": "code",
   "execution_count": 70,
   "id": "a5354a0b",
   "metadata": {},
   "outputs": [
    {
     "data": {
      "text/plain": [
       "{'a': 'saki', 'b': 'baki', 'c': 'raki', 'd': 'kaki'}"
      ]
     },
     "execution_count": 70,
     "metadata": {},
     "output_type": "execute_result"
    }
   ],
   "source": [
    "dict1"
   ]
  },
  {
   "cell_type": "code",
   "execution_count": 71,
   "id": "9880b2b2",
   "metadata": {},
   "outputs": [
    {
     "data": {
      "text/plain": [
       "4"
      ]
     },
     "execution_count": 71,
     "metadata": {},
     "output_type": "execute_result"
    }
   ],
   "source": [
    "len(dict1)"
   ]
  },
  {
   "cell_type": "code",
   "execution_count": 72,
   "id": "734ded1d",
   "metadata": {},
   "outputs": [
    {
     "data": {
      "text/plain": [
       "'baki'"
      ]
     },
     "execution_count": 72,
     "metadata": {},
     "output_type": "execute_result"
    }
   ],
   "source": [
    "dict1.get('b')"
   ]
  },
  {
   "cell_type": "code",
   "execution_count": 74,
   "id": "27519bb5",
   "metadata": {},
   "outputs": [
    {
     "data": {
      "text/plain": [
       "'jk'"
      ]
     },
     "execution_count": 74,
     "metadata": {},
     "output_type": "execute_result"
    }
   ],
   "source": [
    "dict1.get('e','jk')  #if key is not present in dictionary then it print default value i.e second value"
   ]
  },
  {
   "cell_type": "code",
   "execution_count": 77,
   "id": "8eab6b89",
   "metadata": {},
   "outputs": [
    {
     "data": {
      "text/plain": [
       "'saki'"
      ]
     },
     "execution_count": 77,
     "metadata": {},
     "output_type": "execute_result"
    }
   ],
   "source": [
    "dict1.pop('a')"
   ]
  },
  {
   "cell_type": "code",
   "execution_count": 78,
   "id": "44290f2c",
   "metadata": {},
   "outputs": [
    {
     "data": {
      "text/plain": [
       "{'b': 'baki', 'c': 'raki', 'd': 'kaki'}"
      ]
     },
     "execution_count": 78,
     "metadata": {},
     "output_type": "execute_result"
    }
   ],
   "source": [
    "dict1"
   ]
  },
  {
   "cell_type": "code",
   "execution_count": 79,
   "id": "83b62d6f",
   "metadata": {},
   "outputs": [
    {
     "data": {
      "text/plain": [
       "('d', 'kaki')"
      ]
     },
     "execution_count": 79,
     "metadata": {},
     "output_type": "execute_result"
    }
   ],
   "source": [
    "dict1.popitem() #it will pop random element"
   ]
  },
  {
   "cell_type": "code",
   "execution_count": 80,
   "id": "f0696068",
   "metadata": {},
   "outputs": [
    {
     "data": {
      "text/plain": [
       "{1: 'sk', 2: 'vk', 3: 'jk'}"
      ]
     },
     "execution_count": 80,
     "metadata": {},
     "output_type": "execute_result"
    }
   ],
   "source": [
    "d2"
   ]
  },
  {
   "cell_type": "code",
   "execution_count": 81,
   "id": "65c09314",
   "metadata": {},
   "outputs": [
    {
     "data": {
      "text/plain": [
       "dict_keys([1, 2, 3])"
      ]
     },
     "execution_count": 81,
     "metadata": {},
     "output_type": "execute_result"
    }
   ],
   "source": [
    "d2.keys()"
   ]
  },
  {
   "cell_type": "code",
   "execution_count": 82,
   "id": "92e81d0c",
   "metadata": {},
   "outputs": [
    {
     "data": {
      "text/plain": [
       "dict_values(['sk', 'vk', 'jk'])"
      ]
     },
     "execution_count": 82,
     "metadata": {},
     "output_type": "execute_result"
    }
   ],
   "source": [
    "d2.values()"
   ]
  },
  {
   "cell_type": "code",
   "execution_count": 83,
   "id": "b0ec9a27",
   "metadata": {},
   "outputs": [
    {
     "data": {
      "text/plain": [
       "dict_items([(1, 'sk'), (2, 'vk'), (3, 'jk')])"
      ]
     },
     "execution_count": 83,
     "metadata": {},
     "output_type": "execute_result"
    }
   ],
   "source": [
    "d2.items()   #print values in tuple form"
   ]
  },
  {
   "cell_type": "code",
   "execution_count": 84,
   "id": "76ab2ad8",
   "metadata": {},
   "outputs": [
    {
     "name": "stdout",
     "output_type": "stream",
     "text": [
      "1\n",
      "sk\n",
      "2\n",
      "vk\n",
      "3\n",
      "jk\n"
     ]
    }
   ],
   "source": [
    "for key,value in d2.items():\n",
    "    print(key)\n",
    "    print(value)"
   ]
  },
  {
   "cell_type": "code",
   "execution_count": 87,
   "id": "2e995555",
   "metadata": {},
   "outputs": [
    {
     "data": {
      "text/plain": [
       "{1: 'badki', 2: 'radki', 3: 'madki', 4: 'kadki'}"
      ]
     },
     "execution_count": 87,
     "metadata": {},
     "output_type": "execute_result"
    }
   ],
   "source": [
    "d3={1:'badki', 2: 'radki',3: 'madki', 4: 'kadki'}\n",
    "d3"
   ]
  },
  {
   "cell_type": "code",
   "execution_count": 88,
   "id": "1b901233",
   "metadata": {},
   "outputs": [
    {
     "data": {
      "text/plain": [
       "{'b': 'baki', 'c': 'raki'}"
      ]
     },
     "execution_count": 88,
     "metadata": {},
     "output_type": "execute_result"
    }
   ],
   "source": [
    "d2"
   ]
  },
  {
   "cell_type": "code",
   "execution_count": 89,
   "id": "dbe6825e",
   "metadata": {},
   "outputs": [],
   "source": [
    "d3=d2.copy()"
   ]
  },
  {
   "cell_type": "code",
   "execution_count": 90,
   "id": "e730470a",
   "metadata": {},
   "outputs": [
    {
     "data": {
      "text/plain": [
       "{'b': 'baki', 'c': 'raki'}"
      ]
     },
     "execution_count": 90,
     "metadata": {},
     "output_type": "execute_result"
    }
   ],
   "source": [
    "d3"
   ]
  },
  {
   "cell_type": "code",
   "execution_count": 91,
   "id": "13c755e1",
   "metadata": {},
   "outputs": [
    {
     "data": {
      "text/plain": [
       "{0: 0, 1: 1, 2: 4, 3: 9, 4: 16}"
      ]
     },
     "execution_count": 91,
     "metadata": {},
     "output_type": "execute_result"
    }
   ],
   "source": [
    "squares={x:x*x for x in range(5)}\n",
    "squares"
   ]
  },
  {
   "cell_type": "code",
   "execution_count": null,
   "id": "c3d39668",
   "metadata": {},
   "outputs": [],
   "source": [
    "#frozenset"
   ]
  },
  {
   "cell_type": "code",
   "execution_count": null,
   "id": "44288dbe",
   "metadata": {},
   "outputs": [],
   "source": [
    "#functions 1. built in  2.user defined"
   ]
  },
  {
   "cell_type": "code",
   "execution_count": 92,
   "id": "94a61aa6",
   "metadata": {},
   "outputs": [
    {
     "name": "stdout",
     "output_type": "stream",
     "text": [
      "hello\n"
     ]
    }
   ],
   "source": [
    "def m1():\n",
    "    print('hello')\n",
    "m1()    "
   ]
  },
  {
   "cell_type": "code",
   "execution_count": 93,
   "id": "28d51d82",
   "metadata": {},
   "outputs": [
    {
     "data": {
      "text/plain": [
       "5"
      ]
     },
     "execution_count": 93,
     "metadata": {},
     "output_type": "execute_result"
    }
   ],
   "source": [
    "def m1(a,b):\n",
    "    return a+b\n",
    "m1(2,3)   "
   ]
  },
  {
   "cell_type": "code",
   "execution_count": 98,
   "id": "06e5688a",
   "metadata": {},
   "outputs": [
    {
     "name": "stdout",
     "output_type": "stream",
     "text": [
      "34 is even\n"
     ]
    }
   ],
   "source": [
    "#even or not\n",
    "\n",
    "def even_odd(a):\n",
    "    if a%2==0:\n",
    "        print(str(a) + \" is even\")\n",
    "    else:\n",
    "        print(str(a) + \" is odd\")\n",
    "even_odd(34)"
   ]
  },
  {
   "cell_type": "code",
   "execution_count": 99,
   "id": "617c9a54",
   "metadata": {},
   "outputs": [
    {
     "name": "stdout",
     "output_type": "stream",
     "text": [
      "345 is odd\n"
     ]
    }
   ],
   "source": [
    "even_odd(345)"
   ]
  },
  {
   "cell_type": "code",
   "execution_count": null,
   "id": "505e156c",
   "metadata": {},
   "outputs": [],
   "source": [
    "#Recursive function or non recursive function"
   ]
  },
  {
   "cell_type": "code",
   "execution_count": null,
   "id": "05e73eb3",
   "metadata": {},
   "outputs": [],
   "source": [
    "#factorial without recursion\n",
    "\n",
    "def factorial(a):\n",
    "    fact=1\n",
    "    while a>=1:\n",
    "        fact=fact * a\n",
    "        a=a-1\n",
    "    return fact\n",
    "print(fact(5))\n",
    "factorial(3)"
   ]
  },
  {
   "cell_type": "code",
   "execution_count": null,
   "id": "125a38c1",
   "metadata": {},
   "outputs": [],
   "source": [
    "def factorial(a):\n",
    "    for i in range(1,a+1):\n",
    "         fact=1\n",
    "         fact=fact * a\n",
    "    return fact\n",
    "factorial(3)"
   ]
  },
  {
   "cell_type": "code",
   "execution_count": null,
   "id": "5b605739",
   "metadata": {},
   "outputs": [],
   "source": [
    "def facto(num):\n",
    "    if num==0:\n",
    "        return 1\n",
    "    else:\n",
    "        facto=num*facto(num-1)\n",
    "    return facto\n",
    "\n",
    "facto(5)"
   ]
  },
  {
   "cell_type": "code",
   "execution_count": 109,
   "id": "ef476a8a",
   "metadata": {},
   "outputs": [
    {
     "name": "stdout",
     "output_type": "stream",
     "text": [
      "3\n"
     ]
    }
   ],
   "source": [
    "s=lambda a,b:a+b\n",
    "print(s(1,2))"
   ]
  },
  {
   "cell_type": "code",
   "execution_count": 108,
   "id": "a17a43be",
   "metadata": {},
   "outputs": [
    {
     "name": "stdout",
     "output_type": "stream",
     "text": [
      "16\n"
     ]
    }
   ],
   "source": [
    "s = lambda n:n*n\n",
    "print(s(4))"
   ]
  },
  {
   "cell_type": "code",
   "execution_count": 110,
   "id": "26f70828",
   "metadata": {},
   "outputs": [
    {
     "name": "stdout",
     "output_type": "stream",
     "text": [
      "[12, 14, 16]\n"
     ]
    }
   ],
   "source": [
    "#filter\n",
    "\n",
    "def even(num):\n",
    "    if num%2==0:\n",
    "        return True\n",
    "    else:\n",
    "        return False\n",
    "    \n",
    "l=[12,13,14,15,16,17]\n",
    "s=list(filter(even,l))\n",
    "print(s)"
   ]
  },
  {
   "cell_type": "code",
   "execution_count": 112,
   "id": "c11dfbec",
   "metadata": {},
   "outputs": [],
   "source": [
    "s=list(filter(lambda x:x%2==0,l))"
   ]
  },
  {
   "cell_type": "code",
   "execution_count": 113,
   "id": "32bf6717",
   "metadata": {},
   "outputs": [
    {
     "name": "stdout",
     "output_type": "stream",
     "text": [
      "15\n"
     ]
    }
   ],
   "source": [
    "from functools import *\n",
    "lst=[1,2,3,4,5]\n",
    "res=reduce(lambda a,b : a+b,lst)\n",
    "print(res)"
   ]
  },
  {
   "cell_type": "code",
   "execution_count": null,
   "id": "ad5f804a",
   "metadata": {},
   "outputs": [],
   "source": [
    "# Python program to find the factorial of a number provided by the user\n",
    "# using recursion\n",
    "\n",
    "def factorial(x):\n",
    "    \"\"\"This is a recursive function\n",
    "    to find the factorial of an integer\"\"\"\n",
    "\n",
    "    if x == 1:\n",
    "        return 1\n",
    "    else:\n",
    "        # recursive call to the function\n",
    "        return (x * factorial(x-1))\n",
    "\n",
    "\n",
    "# change the value for a different result\n",
    "num = 7\n",
    "\n",
    "# to take input from the user\n",
    "# num = int(input(\"Enter a number: \"))\n",
    "\n",
    "# call the factorial function\n",
    "result = factorial(num)\n",
    "print(\"The factorial of\", num, \"is\", result)"
   ]
  },
  {
   "cell_type": "code",
   "execution_count": null,
   "id": "d38983ef",
   "metadata": {},
   "outputs": [],
   "source": []
  },
  {
   "cell_type": "code",
   "execution_count": null,
   "id": "0ba15d58",
   "metadata": {},
   "outputs": [],
   "source": []
  }
 ],
 "metadata": {
  "kernelspec": {
   "display_name": "Python 3 (ipykernel)",
   "language": "python",
   "name": "python3"
  },
  "language_info": {
   "codemirror_mode": {
    "name": "ipython",
    "version": 3
   },
   "file_extension": ".py",
   "mimetype": "text/x-python",
   "name": "python",
   "nbconvert_exporter": "python",
   "pygments_lexer": "ipython3",
   "version": "3.9.12"
  }
 },
 "nbformat": 4,
 "nbformat_minor": 5
}
